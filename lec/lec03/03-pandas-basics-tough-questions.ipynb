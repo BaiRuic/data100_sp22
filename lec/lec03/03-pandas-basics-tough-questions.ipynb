{
 "cells": [
  {
   "cell_type": "code",
   "execution_count": 1,
   "metadata": {},
   "outputs": [],
   "source": [
    "%matplotlib inline\n",
    "import matplotlib.pyplot as plt\n",
    "import seaborn as sns\n",
    "import numpy as np\n",
    "import pandas as pd\n",
    "\n",
    "plt.style.use('fivethirtyeight')\n",
    "sns.set_context(\"notebook\")"
   ]
  },
  {
   "cell_type": "markdown",
   "metadata": {},
   "source": [
    "Now let's play around a bit with the large baby names dataset we saw in lecture 1. We'll start by loading that dataset from the social security administration's website.\n",
    "\n",
    "To keep the data small enough to avoid crashing datahub, we're going to look at only California rather than looking at the national dataset."
   ]
  },
  {
   "cell_type": "code",
   "execution_count": 28,
   "metadata": {},
   "outputs": [
    {
     "data": {
      "text/html": [
       "<div>\n",
       "<style scoped>\n",
       "    .dataframe tbody tr th:only-of-type {\n",
       "        vertical-align: middle;\n",
       "    }\n",
       "\n",
       "    .dataframe tbody tr th {\n",
       "        vertical-align: top;\n",
       "    }\n",
       "\n",
       "    .dataframe thead th {\n",
       "        text-align: right;\n",
       "    }\n",
       "</style>\n",
       "<table border=\"1\" class=\"dataframe\">\n",
       "  <thead>\n",
       "    <tr style=\"text-align: right;\">\n",
       "      <th></th>\n",
       "      <th>State</th>\n",
       "      <th>Sex</th>\n",
       "      <th>Year</th>\n",
       "      <th>Name</th>\n",
       "      <th>Count</th>\n",
       "    </tr>\n",
       "  </thead>\n",
       "  <tbody>\n",
       "    <tr>\n",
       "      <th>171910</th>\n",
       "      <td>CA</td>\n",
       "      <td>F</td>\n",
       "      <td>2005</td>\n",
       "      <td>Yazmeen</td>\n",
       "      <td>6</td>\n",
       "    </tr>\n",
       "    <tr>\n",
       "      <th>198955</th>\n",
       "      <td>CA</td>\n",
       "      <td>F</td>\n",
       "      <td>2012</td>\n",
       "      <td>Raya</td>\n",
       "      <td>20</td>\n",
       "    </tr>\n",
       "    <tr>\n",
       "      <th>310991</th>\n",
       "      <td>CA</td>\n",
       "      <td>M</td>\n",
       "      <td>1988</td>\n",
       "      <td>Deepak</td>\n",
       "      <td>5</td>\n",
       "    </tr>\n",
       "    <tr>\n",
       "      <th>114434</th>\n",
       "      <td>CA</td>\n",
       "      <td>F</td>\n",
       "      <td>1990</td>\n",
       "      <td>Destiney</td>\n",
       "      <td>12</td>\n",
       "    </tr>\n",
       "    <tr>\n",
       "      <th>32136</th>\n",
       "      <td>CA</td>\n",
       "      <td>F</td>\n",
       "      <td>1953</td>\n",
       "      <td>Ronnie</td>\n",
       "      <td>12</td>\n",
       "    </tr>\n",
       "  </tbody>\n",
       "</table>\n",
       "</div>"
      ],
      "text/plain": [
       "       State Sex  Year      Name  Count\n",
       "171910    CA   F  2005   Yazmeen      6\n",
       "198955    CA   F  2012      Raya     20\n",
       "310991    CA   M  1988    Deepak      5\n",
       "114434    CA   F  1990  Destiney     12\n",
       "32136     CA   F  1953    Ronnie     12"
      ]
     },
     "execution_count": 28,
     "metadata": {},
     "output_type": "execute_result"
    }
   ],
   "source": [
    "import urllib.request\n",
    "import os.path\n",
    "import zipfile\n",
    "\n",
    "data_url = \"https://www.ssa.gov/oact/babynames/state/namesbystate.zip\"\n",
    "local_filename = \"babynamesbystate.zip\"\n",
    "if not os.path.exists(local_filename): # if the data exists don't download again\n",
    "    with urllib.request.urlopen(data_url) as resp, open(local_filename, 'wb') as f:\n",
    "        f.write(resp.read())\n",
    "\n",
    "zf = zipfile.ZipFile(local_filename, 'r')\n",
    "\n",
    "ca_name = 'CA.TXT'\n",
    "field_names = ['State', 'Sex', 'Year', 'Name', 'Count']\n",
    "with zf.open(ca_name) as fh:\n",
    "    babynames = pd.read_csv(fh, header=None, names=field_names)\n",
    "\n",
    "babynames.sample(5)"
   ]
  },
  {
   "cell_type": "markdown",
   "metadata": {},
   "source": [
    "## Goal 1: Find the most popular baby name in California in 2018"
   ]
  },
  {
   "cell_type": "code",
   "execution_count": 29,
   "metadata": {},
   "outputs": [
    {
     "data": {
      "text/plain": [
       "('Journey',)"
      ]
     },
     "execution_count": 29,
     "metadata": {},
     "output_type": "execute_result"
    }
   ],
   "source": [
    "babynames.loc[babynames[\"Year\"] == 2018, [\"Name\"]].value_counts().index[0]"
   ]
  },
  {
   "cell_type": "markdown",
   "metadata": {},
   "source": [
    "## Goal 2: Baby names that start with j. "
   ]
  },
  {
   "cell_type": "code",
   "execution_count": 38,
   "metadata": {},
   "outputs": [
    {
     "data": {
      "text/html": [
       "<div>\n",
       "<style scoped>\n",
       "    .dataframe tbody tr th:only-of-type {\n",
       "        vertical-align: middle;\n",
       "    }\n",
       "\n",
       "    .dataframe tbody tr th {\n",
       "        vertical-align: top;\n",
       "    }\n",
       "\n",
       "    .dataframe thead th {\n",
       "        text-align: right;\n",
       "    }\n",
       "</style>\n",
       "<table border=\"1\" class=\"dataframe\">\n",
       "  <thead>\n",
       "    <tr style=\"text-align: right;\">\n",
       "      <th></th>\n",
       "      <th>State</th>\n",
       "      <th>Sex</th>\n",
       "      <th>Year</th>\n",
       "      <th>Name</th>\n",
       "      <th>Count</th>\n",
       "      <th>name_length</th>\n",
       "    </tr>\n",
       "  </thead>\n",
       "  <tbody>\n",
       "    <tr>\n",
       "      <th>16</th>\n",
       "      <td>CA</td>\n",
       "      <td>F</td>\n",
       "      <td>1910</td>\n",
       "      <td>Josephine</td>\n",
       "      <td>66</td>\n",
       "      <td>9</td>\n",
       "    </tr>\n",
       "    <tr>\n",
       "      <th>44</th>\n",
       "      <td>CA</td>\n",
       "      <td>F</td>\n",
       "      <td>1910</td>\n",
       "      <td>Jean</td>\n",
       "      <td>35</td>\n",
       "      <td>4</td>\n",
       "    </tr>\n",
       "    <tr>\n",
       "      <th>46</th>\n",
       "      <td>CA</td>\n",
       "      <td>F</td>\n",
       "      <td>1910</td>\n",
       "      <td>Jessie</td>\n",
       "      <td>32</td>\n",
       "      <td>6</td>\n",
       "    </tr>\n",
       "    <tr>\n",
       "      <th>59</th>\n",
       "      <td>CA</td>\n",
       "      <td>F</td>\n",
       "      <td>1910</td>\n",
       "      <td>Julia</td>\n",
       "      <td>28</td>\n",
       "      <td>5</td>\n",
       "    </tr>\n",
       "    <tr>\n",
       "      <th>66</th>\n",
       "      <td>CA</td>\n",
       "      <td>F</td>\n",
       "      <td>1910</td>\n",
       "      <td>Juanita</td>\n",
       "      <td>25</td>\n",
       "      <td>7</td>\n",
       "    </tr>\n",
       "    <tr>\n",
       "      <th>...</th>\n",
       "      <td>...</td>\n",
       "      <td>...</td>\n",
       "      <td>...</td>\n",
       "      <td>...</td>\n",
       "      <td>...</td>\n",
       "      <td>...</td>\n",
       "    </tr>\n",
       "    <tr>\n",
       "      <th>400567</th>\n",
       "      <td>CA</td>\n",
       "      <td>M</td>\n",
       "      <td>2021</td>\n",
       "      <td>Jovin</td>\n",
       "      <td>5</td>\n",
       "      <td>5</td>\n",
       "    </tr>\n",
       "    <tr>\n",
       "      <th>400568</th>\n",
       "      <td>CA</td>\n",
       "      <td>M</td>\n",
       "      <td>2021</td>\n",
       "      <td>Jr</td>\n",
       "      <td>5</td>\n",
       "      <td>2</td>\n",
       "    </tr>\n",
       "    <tr>\n",
       "      <th>400569</th>\n",
       "      <td>CA</td>\n",
       "      <td>M</td>\n",
       "      <td>2021</td>\n",
       "      <td>Juanjose</td>\n",
       "      <td>5</td>\n",
       "      <td>8</td>\n",
       "    </tr>\n",
       "    <tr>\n",
       "      <th>400570</th>\n",
       "      <td>CA</td>\n",
       "      <td>M</td>\n",
       "      <td>2021</td>\n",
       "      <td>Juel</td>\n",
       "      <td>5</td>\n",
       "      <td>4</td>\n",
       "    </tr>\n",
       "    <tr>\n",
       "      <th>400571</th>\n",
       "      <td>CA</td>\n",
       "      <td>M</td>\n",
       "      <td>2021</td>\n",
       "      <td>Jullian</td>\n",
       "      <td>5</td>\n",
       "      <td>7</td>\n",
       "    </tr>\n",
       "  </tbody>\n",
       "</table>\n",
       "<p>34290 rows × 6 columns</p>\n",
       "</div>"
      ],
      "text/plain": [
       "       State Sex  Year       Name  Count  name_length\n",
       "16        CA   F  1910  Josephine     66            9\n",
       "44        CA   F  1910       Jean     35            4\n",
       "46        CA   F  1910     Jessie     32            6\n",
       "59        CA   F  1910      Julia     28            5\n",
       "66        CA   F  1910    Juanita     25            7\n",
       "...      ...  ..   ...        ...    ...          ...\n",
       "400567    CA   M  2021      Jovin      5            5\n",
       "400568    CA   M  2021         Jr      5            2\n",
       "400569    CA   M  2021   Juanjose      5            8\n",
       "400570    CA   M  2021       Juel      5            4\n",
       "400571    CA   M  2021    Jullian      5            7\n",
       "\n",
       "[34290 rows x 6 columns]"
      ]
     },
     "execution_count": 38,
     "metadata": {},
     "output_type": "execute_result"
    }
   ],
   "source": [
    "babynames[babynames[\"Name\"].str.startswith(\"J\")]"
   ]
  },
  {
   "cell_type": "markdown",
   "metadata": {},
   "source": [
    "## Goal 3: Sort names by their length."
   ]
  },
  {
   "cell_type": "markdown",
   "metadata": {},
   "source": [
    "Approach 1a: Create a new series of only the lengths. Then add that series to the dataframe as a column. Then sort by that column. Then drop that column."
   ]
  },
  {
   "cell_type": "code",
   "execution_count": 33,
   "metadata": {},
   "outputs": [],
   "source": [
    "#create a new series of only the lengths\n",
    "babyname_lengths = babynames[\"Name\"].map(len)\n",
    "\n",
    "#add that series to the dataframe as a column\n",
    "babynames[\"name_length\"] = babyname_lengths\n",
    "\n",
    "#sort by that column\n",
    "babynames_by_length = babynames.sort_values(by = \"name_length\")\n",
    "\n",
    "#drop that column\n",
    "babynames_by_length = babynames_by_length.drop(\"name_length\", axis=1)\n",
    "babynames_by_length.head(5)"
   ]
  },
  {
   "cell_type": "markdown",
   "metadata": {},
   "source": [
    "Approach 1b: Same as 1a, but use str.len() to generate the lengths of the strings."
   ]
  },
  {
   "cell_type": "code",
   "execution_count": 20,
   "metadata": {},
   "outputs": [],
   "source": [
    "babynames[\"name_length\"] = babynames[\"Name\"].str.len()\n",
    "babynames.sort_values([\"name_length\"]).drop(\"name_length\",axis=1, inplace=True)"
   ]
  },
  {
   "cell_type": "markdown",
   "metadata": {},
   "source": [
    "Approach 2: Generate an index that is in the order we want. Pass that index to loc."
   ]
  },
  {
   "cell_type": "code",
   "execution_count": 34,
   "metadata": {},
   "outputs": [
    {
     "data": {
      "text/html": [
       "<div>\n",
       "<style scoped>\n",
       "    .dataframe tbody tr th:only-of-type {\n",
       "        vertical-align: middle;\n",
       "    }\n",
       "\n",
       "    .dataframe tbody tr th {\n",
       "        vertical-align: top;\n",
       "    }\n",
       "\n",
       "    .dataframe thead th {\n",
       "        text-align: right;\n",
       "    }\n",
       "</style>\n",
       "<table border=\"1\" class=\"dataframe\">\n",
       "  <thead>\n",
       "    <tr style=\"text-align: right;\">\n",
       "      <th></th>\n",
       "      <th>State</th>\n",
       "      <th>Sex</th>\n",
       "      <th>Year</th>\n",
       "      <th>Name</th>\n",
       "      <th>Count</th>\n",
       "      <th>name_length</th>\n",
       "    </tr>\n",
       "  </thead>\n",
       "  <tbody>\n",
       "    <tr>\n",
       "      <th>376803</th>\n",
       "      <td>CA</td>\n",
       "      <td>M</td>\n",
       "      <td>2013</td>\n",
       "      <td>An</td>\n",
       "      <td>7</td>\n",
       "      <td>2</td>\n",
       "    </tr>\n",
       "    <tr>\n",
       "      <th>338135</th>\n",
       "      <td>CA</td>\n",
       "      <td>M</td>\n",
       "      <td>1999</td>\n",
       "      <td>Cj</td>\n",
       "      <td>6</td>\n",
       "      <td>2</td>\n",
       "    </tr>\n",
       "    <tr>\n",
       "      <th>264612</th>\n",
       "      <td>CA</td>\n",
       "      <td>M</td>\n",
       "      <td>1957</td>\n",
       "      <td>Ed</td>\n",
       "      <td>53</td>\n",
       "      <td>2</td>\n",
       "    </tr>\n",
       "    <tr>\n",
       "      <th>308634</th>\n",
       "      <td>CA</td>\n",
       "      <td>M</td>\n",
       "      <td>1987</td>\n",
       "      <td>Lo</td>\n",
       "      <td>6</td>\n",
       "      <td>2</td>\n",
       "    </tr>\n",
       "    <tr>\n",
       "      <th>356854</th>\n",
       "      <td>CA</td>\n",
       "      <td>M</td>\n",
       "      <td>2006</td>\n",
       "      <td>Aj</td>\n",
       "      <td>5</td>\n",
       "      <td>2</td>\n",
       "    </tr>\n",
       "    <tr>\n",
       "      <th>...</th>\n",
       "      <td>...</td>\n",
       "      <td>...</td>\n",
       "      <td>...</td>\n",
       "      <td>...</td>\n",
       "      <td>...</td>\n",
       "      <td>...</td>\n",
       "    </tr>\n",
       "    <tr>\n",
       "      <th>333732</th>\n",
       "      <td>CA</td>\n",
       "      <td>M</td>\n",
       "      <td>1997</td>\n",
       "      <td>Ryanchristopher</td>\n",
       "      <td>5</td>\n",
       "      <td>15</td>\n",
       "    </tr>\n",
       "    <tr>\n",
       "      <th>333556</th>\n",
       "      <td>CA</td>\n",
       "      <td>M</td>\n",
       "      <td>1997</td>\n",
       "      <td>Franciscojavier</td>\n",
       "      <td>5</td>\n",
       "      <td>15</td>\n",
       "    </tr>\n",
       "    <tr>\n",
       "      <th>318049</th>\n",
       "      <td>CA</td>\n",
       "      <td>M</td>\n",
       "      <td>1991</td>\n",
       "      <td>Ryanchristopher</td>\n",
       "      <td>7</td>\n",
       "      <td>15</td>\n",
       "    </tr>\n",
       "    <tr>\n",
       "      <th>310235</th>\n",
       "      <td>CA</td>\n",
       "      <td>M</td>\n",
       "      <td>1988</td>\n",
       "      <td>Franciscojavier</td>\n",
       "      <td>10</td>\n",
       "      <td>15</td>\n",
       "    </tr>\n",
       "    <tr>\n",
       "      <th>102498</th>\n",
       "      <td>CA</td>\n",
       "      <td>F</td>\n",
       "      <td>1986</td>\n",
       "      <td>Mariadelosangel</td>\n",
       "      <td>5</td>\n",
       "      <td>15</td>\n",
       "    </tr>\n",
       "  </tbody>\n",
       "</table>\n",
       "<p>400762 rows × 6 columns</p>\n",
       "</div>"
      ],
      "text/plain": [
       "       State Sex  Year             Name  Count  name_length\n",
       "376803    CA   M  2013               An      7            2\n",
       "338135    CA   M  1999               Cj      6            2\n",
       "264612    CA   M  1957               Ed     53            2\n",
       "308634    CA   M  1987               Lo      6            2\n",
       "356854    CA   M  2006               Aj      5            2\n",
       "...      ...  ..   ...              ...    ...          ...\n",
       "333732    CA   M  1997  Ryanchristopher      5           15\n",
       "333556    CA   M  1997  Franciscojavier      5           15\n",
       "318049    CA   M  1991  Ryanchristopher      7           15\n",
       "310235    CA   M  1988  Franciscojavier     10           15\n",
       "102498    CA   F  1986  Mariadelosangel      5           15\n",
       "\n",
       "[400762 rows x 6 columns]"
      ]
     },
     "execution_count": 34,
     "metadata": {},
     "output_type": "execute_result"
    }
   ],
   "source": [
    "babynames.loc[babynames[\"Name\"].str.len().sort_values().index]"
   ]
  },
  {
   "cell_type": "markdown",
   "metadata": {},
   "source": [
    "How does this work exactly? Let's break it into pieces."
   ]
  },
  {
   "cell_type": "code",
   "execution_count": 35,
   "metadata": {},
   "outputs": [
    {
     "data": {
      "text/plain": [
       "376803    2\n",
       "338135    2\n",
       "264612    2\n",
       "308634    2\n",
       "356854    2\n",
       "Name: Name, dtype: int64"
      ]
     },
     "execution_count": 35,
     "metadata": {},
     "output_type": "execute_result"
    }
   ],
   "source": [
    "lengths_sorted_by_length = babynames[\"Name\"].str.len().sort_values()\n",
    "lengths_sorted_by_length.head(5)"
   ]
  },
  {
   "cell_type": "code",
   "execution_count": 36,
   "metadata": {},
   "outputs": [
    {
     "data": {
      "text/plain": [
       "Int64Index([376803, 338135, 264612, 308634, 356854, 308613, 295333, 321001,\n",
       "            249345, 338172,\n",
       "            ...\n",
       "            308802, 313143, 340695, 318170, 330421, 333732, 333556, 318049,\n",
       "            310235, 102498],\n",
       "           dtype='int64', length=400762)"
      ]
     },
     "execution_count": 36,
     "metadata": {},
     "output_type": "execute_result"
    }
   ],
   "source": [
    "index_sorted_by_length = lengths_sorted_by_length.index\n",
    "index_sorted_by_length"
   ]
  },
  {
   "cell_type": "code",
   "execution_count": 37,
   "metadata": {},
   "outputs": [
    {
     "data": {
      "text/html": [
       "<div>\n",
       "<style scoped>\n",
       "    .dataframe tbody tr th:only-of-type {\n",
       "        vertical-align: middle;\n",
       "    }\n",
       "\n",
       "    .dataframe tbody tr th {\n",
       "        vertical-align: top;\n",
       "    }\n",
       "\n",
       "    .dataframe thead th {\n",
       "        text-align: right;\n",
       "    }\n",
       "</style>\n",
       "<table border=\"1\" class=\"dataframe\">\n",
       "  <thead>\n",
       "    <tr style=\"text-align: right;\">\n",
       "      <th></th>\n",
       "      <th>State</th>\n",
       "      <th>Sex</th>\n",
       "      <th>Year</th>\n",
       "      <th>Name</th>\n",
       "      <th>Count</th>\n",
       "      <th>name_length</th>\n",
       "    </tr>\n",
       "  </thead>\n",
       "  <tbody>\n",
       "    <tr>\n",
       "      <th>376803</th>\n",
       "      <td>CA</td>\n",
       "      <td>M</td>\n",
       "      <td>2013</td>\n",
       "      <td>An</td>\n",
       "      <td>7</td>\n",
       "      <td>2</td>\n",
       "    </tr>\n",
       "    <tr>\n",
       "      <th>338135</th>\n",
       "      <td>CA</td>\n",
       "      <td>M</td>\n",
       "      <td>1999</td>\n",
       "      <td>Cj</td>\n",
       "      <td>6</td>\n",
       "      <td>2</td>\n",
       "    </tr>\n",
       "    <tr>\n",
       "      <th>264612</th>\n",
       "      <td>CA</td>\n",
       "      <td>M</td>\n",
       "      <td>1957</td>\n",
       "      <td>Ed</td>\n",
       "      <td>53</td>\n",
       "      <td>2</td>\n",
       "    </tr>\n",
       "    <tr>\n",
       "      <th>308634</th>\n",
       "      <td>CA</td>\n",
       "      <td>M</td>\n",
       "      <td>1987</td>\n",
       "      <td>Lo</td>\n",
       "      <td>6</td>\n",
       "      <td>2</td>\n",
       "    </tr>\n",
       "    <tr>\n",
       "      <th>356854</th>\n",
       "      <td>CA</td>\n",
       "      <td>M</td>\n",
       "      <td>2006</td>\n",
       "      <td>Aj</td>\n",
       "      <td>5</td>\n",
       "      <td>2</td>\n",
       "    </tr>\n",
       "  </tbody>\n",
       "</table>\n",
       "</div>"
      ],
      "text/plain": [
       "       State Sex  Year Name  Count  name_length\n",
       "376803    CA   M  2013   An      7            2\n",
       "338135    CA   M  1999   Cj      6            2\n",
       "264612    CA   M  1957   Ed     53            2\n",
       "308634    CA   M  1987   Lo      6            2\n",
       "356854    CA   M  2006   Aj      5            2"
      ]
     },
     "execution_count": 37,
     "metadata": {},
     "output_type": "execute_result"
    }
   ],
   "source": [
    "# now pass the index to loc. This is yet another way \n",
    "# that loc can be used that we did not discuss in lecture!\n",
    "babynames.loc[index_sorted_by_length].head(5)"
   ]
  }
 ],
 "metadata": {
  "kernelspec": {
   "display_name": "Python 3 (ipykernel)",
   "language": "python",
   "name": "python3"
  },
  "language_info": {
   "codemirror_mode": {
    "name": "ipython",
    "version": 3
   },
   "file_extension": ".py",
   "mimetype": "text/x-python",
   "name": "python",
   "nbconvert_exporter": "python",
   "pygments_lexer": "ipython3",
   "version": "3.8.16"
  }
 },
 "nbformat": 4,
 "nbformat_minor": 4
}
