{
 "cells": [
  {
   "cell_type": "code",
   "execution_count": 1,
   "metadata": {
    "deletable": false,
    "editable": false
   },
   "outputs": [],
   "source": [
    "# Initialize Otter\n",
    "import otter\n",
    "grader = otter.Notebook(\"hw03.ipynb\")"
   ]
  },
  {
   "cell_type": "code",
   "execution_count": 2,
   "metadata": {},
   "outputs": [],
   "source": [
    "import pathlib\n",
    "test_dir = pathlib.Path(\"./tests/\")\n",
    "for file in test_dir.rglob ( '*.py' ):\n",
    "    with open(file, \"r+\") as t:\n",
    "        lines = t.readlines()\n",
    "        if lines[0] != \"OK_FORMAT = 1\\n\":\n",
    "            lines.insert(0, \"OK_FORMAT = 1\" + \"\\n\")\n",
    "            s = ''.join(lines)         \n",
    "            with open(file, 'w') as f:\n",
    "                f.write(s)"
   ]
  },
  {
   "cell_type": "markdown",
   "metadata": {
    "nbgrader": {
     "grade": false,
     "grade_id": "intro",
     "locked": true,
     "schema_version": 2,
     "solution": false
    }
   },
   "source": [
    "# Homework 3: Text Analysis Using Twitter\n",
    "\n",
    "**Due Date: Thursday,  February 10, 11:59 PM PT**\n",
    "\n",
    "Welcome to the third homework assignment of Data 100! In this assignment, we will be exploring tweets from several high profile Twitter users.  \n",
    "\n",
    "In this assignment you will gain practice with:\n",
    "* Conducting Data Cleaning and EDA on a text-based dataset.\n",
    "* Manipulating data in pandas with the datetime and string accessors.\n",
    "* Writing regular expressions and using pandas regex methods.\n",
    "* Performing sentiment analysis on social media using VADER.\n",
    "\n",
    "### Collaboration Policy\n",
    "\n",
    "Data science is a collaborative activity. While you may talk with others about the homework, we ask that you **write your solutions individually**. If you do discuss the assignments with others please **include their names** below."
   ]
  },
  {
   "cell_type": "markdown",
   "metadata": {},
   "source": [
    "**Collaborators**: *list collaborators here*"
   ]
  },
  {
   "cell_type": "code",
   "execution_count": 4,
   "metadata": {
    "nbgrader": {
     "grade": false,
     "grade_id": "import",
     "locked": true,
     "schema_version": 2,
     "solution": false
    }
   },
   "outputs": [],
   "source": [
    "# Run this cell to set up your notebook\n",
    "import numpy as np\n",
    "import pandas as pd\n",
    "import matplotlib.pyplot as plt\n",
    "import seaborn as sns\n",
    "import re\n",
    "\n",
    "from ds100_utils import *\n",
    "\n",
    "# Ensure that Pandas shows at least 280 characters in columns, so we can see full tweets\n",
    "pd.set_option('max_colwidth', 280)\n",
    "plt.style.use('fivethirtyeight')\n",
    "sns.set()\n",
    "sns.set_context(\"talk\")\n",
    "\n",
    "def horiz_concat_df(dict_of_df, head=None):\n",
    "    \"\"\"\n",
    "    Horizontally concatenante multiple DataFrames for easier visualization. \n",
    "    Each DataFrame must have the same columns.\n",
    "    \"\"\"\n",
    "    df = pd.concat([df.reset_index(drop=True) for df in dict_of_df.values()], axis=1, keys=dict_of_df.keys())\n",
    "    if head is None:\n",
    "        return df\n",
    "    return df.head(head)"
   ]
  },
  {
   "cell_type": "markdown",
   "metadata": {},
   "source": [
    "### Score Breakdown\n",
    "\n",
    "Question | Points\n",
    "--- | ---\n",
    "1a | 1\n",
    "1b | 1\n",
    "1c | 3\n",
    "1d | 1\n",
    "2a | 2\n",
    "2b | 2\n",
    "2c | 2\n",
    "2d | 2\n",
    "2e | 2\n",
    "2f | 1\n",
    "3a | 1\n",
    "3b | 1\n",
    "3c | 1\n",
    "4a | 1\n",
    "4b | 1\n",
    "4ci | 1\n",
    "4cii | 1\n",
    "4d | 1\n",
    "4e | 2\n",
    "4f | 2\n",
    "4g | 2\n",
    "5a | 2\n",
    "5b | 2\n",
    "**Total** | **35**"
   ]
  },
  {
   "cell_type": "markdown",
   "metadata": {
    "nbgrader": {
     "grade": false,
     "grade_id": "q3",
     "locked": true,
     "schema_version": 2,
     "solution": false
    }
   },
   "source": [
    "<hr style=\"border: 5px solid #003262;\" />\n",
    "<hr style=\"border: 1px solid #fdb515;\" />\n",
    "\n",
    "## Question 1: Importing the Data\n",
    "\n",
    "\n",
    "The data for this assignment was obtained using the [Twitter APIs](https://developer.twitter.com/en/docs/twitter-api).  To ensure that everyone has the same data and to eliminate the need for every student to apply for a Twitter developer account, we have collected a sample of tweets from several high-profile public figures.  The data is stored in the folder `data`.  Run the following cell to list the contents of the directory:"
   ]
  },
  {
   "cell_type": "code",
   "execution_count": 5,
   "metadata": {},
   "outputs": [
    {
     "name": "stdout",
     "output_type": "stream",
     "text": [
      "AOC_recent_tweets.txt\n",
      "BernieSanders_recent_tweets.txt\n",
      "BillGates_recent_tweets.txt\n",
      "Cristiano_recent_tweets.txt\n",
      "elonmusk_recent_tweets.txt\n",
      "EmmanuelMacron_recent_tweets.txt\n"
     ]
    }
   ],
   "source": [
    "# just run this cell\n",
    "from os import listdir\n",
    "for f in listdir(\"data\"):\n",
    "    print(f)"
   ]
  },
  {
   "cell_type": "markdown",
   "metadata": {
    "deletable": false,
    "editable": false
   },
   "source": [
    "--- \n",
    "### Question 1a\n",
    "\n",
    "Let's examine the contents of one of these files.  Using the [`open` function](https://docs.python.org/3/library/functions.html#open) and [`read` operation](https://docs.python.org/3/tutorial/inputoutput.html#methods-of-file-objects) on a python file object, read the first 1000 **characters** in `data/BernieSanders_recent_tweets.txt` and store your result in the variable `q1a`.  Then display the result so you can read it.\n",
    "\n",
    "**Caution:** Viewing the contents of large files in a Jupyter notebook could crash your browser.  Be careful not to print the entire contents of the file.\n",
    "\n",
    "**Hint:** You might want to try to use `with`:\n",
    "\n",
    "```python\n",
    "with open(\"filename\", \"r\") as f:\n",
    "    f.read(2)\n",
    "```\n",
    "\n",
    "\n",
    "<!--\n",
    "BEGIN QUESTION\n",
    "name: q1a\n",
    "points: 1\n",
    "-->"
   ]
  },
  {
   "cell_type": "code",
   "execution_count": 10,
   "metadata": {},
   "outputs": [],
   "source": [
    "with open(\"data/BernieSanders_recent_tweets.txt\", \"r\") as f:\n",
    "    q1a = f.read(1000)"
   ]
  },
  {
   "cell_type": "code",
   "execution_count": 12,
   "metadata": {
    "deletable": false,
    "editable": false
   },
   "outputs": [
    {
     "data": {
      "text/html": [
       "<p><strong><pre style='display: inline;'>q1a</pre></strong> passed! 🍀</p>"
      ],
      "text/plain": [
       "q1a results: All test cases passed!"
      ]
     },
     "execution_count": 12,
     "metadata": {},
     "output_type": "execute_result"
    }
   ],
   "source": [
    "grader.check(\"q1a\")"
   ]
  },
  {
   "cell_type": "markdown",
   "metadata": {
    "deletable": false,
    "editable": false
   },
   "source": [
    "--- \n",
    "### Question 1b\n",
    "\n",
    "What format is the data in? Answer this question by entering the letter corresponding to the right format in the variable `q1b` below.\n",
    "\n",
    "A. CSV<br/>\n",
    "B. HTML<br/>\n",
    "C. JavaScript Object Notation (JSON)<br/>\n",
    "D. Excel XML\n",
    "\n",
    "Answer in the following cell. Your answer should be a string, either `\"A\"`, `\"B\"`, `\"C\"`, or `\"D\"`.\n",
    "\n",
    "<!--\n",
    "BEGIN QUESTION\n",
    "name: q1b\n",
    "points: \n",
    "    - 0\n",
    "    - 1\n",
    "-->"
   ]
  },
  {
   "cell_type": "code",
   "execution_count": 22,
   "metadata": {},
   "outputs": [],
   "source": [
    "q1b = \"C\""
   ]
  },
  {
   "cell_type": "code",
   "execution_count": 23,
   "metadata": {
    "deletable": false,
    "editable": false
   },
   "outputs": [
    {
     "data": {
      "text/html": [
       "<p><strong><pre style='display: inline;'>q1b</pre></strong> passed! 🎉</p>"
      ],
      "text/plain": [
       "q1b results: All test cases passed!"
      ]
     },
     "execution_count": 23,
     "metadata": {},
     "output_type": "execute_result"
    }
   ],
   "source": [
    "grader.check(\"q1b\")"
   ]
  },
  {
   "cell_type": "markdown",
   "metadata": {
    "deletable": false,
    "editable": false
   },
   "source": [
    "--- \n",
    "\n",
    "### Question 1c\n",
    "\n",
    "Pandas has built-in readers for many different file formats including the file format used here to store tweets.  To learn more about these, check out the documentation for [`pd.read_csv`](https://pandas.pydata.org/pandas-docs/stable/reference/api/pandas.read_csv.html), [`pd.read_html`](https://pandas.pydata.org/pandas-docs/stable/reference/api/pandas.read_html.html), [`pd.read_json`](https://pandas.pydata.org/docs/reference/api/pandas.io.json.read_json.html#pandas.io.json.read_json), and [`pd.read_excel`](https://pandas.pydata.org/pandas-docs/stable/reference/api/pandas.read_excel.html).  \n",
    "\n",
    "1. Use one of these functions to populate the `tweets` dictionary with the tweets for: `AOC`, `Cristiano`, and `elonmusk`. The keys of `tweets` should be the handles of the users, which we have provided in the cell below, and the values should be the DataFrames.\n",
    "2. Set the index of each DataFrame to correspond to the `id` of each tweet.  \n",
    "\n",
    "\n",
    "\n",
    "**Hint:** You might want to first try loading one of the DataFrames before trying to complete the entire question.\n",
    "\n",
    "<!--\n",
    "BEGIN QUESTION\n",
    "name: q1c\n",
    "points: 3\n",
    "-->"
   ]
  },
  {
   "cell_type": "code",
   "execution_count": 18,
   "metadata": {},
   "outputs": [
    {
     "data": {
      "text/html": [
       "<div>\n",
       "<style scoped>\n",
       "    .dataframe tbody tr th:only-of-type {\n",
       "        vertical-align: middle;\n",
       "    }\n",
       "\n",
       "    .dataframe tbody tr th {\n",
       "        vertical-align: top;\n",
       "    }\n",
       "\n",
       "    .dataframe thead th {\n",
       "        text-align: right;\n",
       "    }\n",
       "</style>\n",
       "<table border=\"1\" class=\"dataframe\">\n",
       "  <thead>\n",
       "    <tr style=\"text-align: right;\">\n",
       "      <th></th>\n",
       "      <th>created_at</th>\n",
       "      <th>id_str</th>\n",
       "      <th>full_text</th>\n",
       "      <th>truncated</th>\n",
       "      <th>display_text_range</th>\n",
       "      <th>entities</th>\n",
       "      <th>source</th>\n",
       "      <th>in_reply_to_status_id</th>\n",
       "      <th>in_reply_to_status_id_str</th>\n",
       "      <th>in_reply_to_user_id</th>\n",
       "      <th>...</th>\n",
       "      <th>favorite_count</th>\n",
       "      <th>favorited</th>\n",
       "      <th>retweeted</th>\n",
       "      <th>lang</th>\n",
       "      <th>possibly_sensitive</th>\n",
       "      <th>extended_entities</th>\n",
       "      <th>quoted_status_id</th>\n",
       "      <th>quoted_status_id_str</th>\n",
       "      <th>quoted_status_permalink</th>\n",
       "      <th>quoted_status</th>\n",
       "    </tr>\n",
       "    <tr>\n",
       "      <th>id</th>\n",
       "      <th></th>\n",
       "      <th></th>\n",
       "      <th></th>\n",
       "      <th></th>\n",
       "      <th></th>\n",
       "      <th></th>\n",
       "      <th></th>\n",
       "      <th></th>\n",
       "      <th></th>\n",
       "      <th></th>\n",
       "      <th></th>\n",
       "      <th></th>\n",
       "      <th></th>\n",
       "      <th></th>\n",
       "      <th></th>\n",
       "      <th></th>\n",
       "      <th></th>\n",
       "      <th></th>\n",
       "      <th></th>\n",
       "      <th></th>\n",
       "      <th></th>\n",
       "    </tr>\n",
       "  </thead>\n",
       "  <tbody>\n",
       "    <tr>\n",
       "      <th>1358149122264563712</th>\n",
       "      <td>2021-02-06 20:22:38+00:00</td>\n",
       "      <td>1358149122264563712</td>\n",
       "      <td>RT @RepEscobar: Our country has the moral obligation and responsibility to reunite every single family separated at the southern border.\\n\\nT…</td>\n",
       "      <td>False</td>\n",
       "      <td>[0, 140]</td>\n",
       "      <td>{'hashtags': [], 'symbols': [], 'user_mentions': [{'screen_name': 'RepEscobar', 'name': 'Rep. Veronica Escobar', 'id': 1075517806551154689, 'id_str': '1075517806551154689', 'indices': [3, 14]}], 'urls': []}</td>\n",
       "      <td>&lt;a href=\"http://twitter.com/download/iphone\" rel=\"nofollow\"&gt;Twitter for iPhone&lt;/a&gt;</td>\n",
       "      <td>NaN</td>\n",
       "      <td>NaN</td>\n",
       "      <td>NaN</td>\n",
       "      <td>...</td>\n",
       "      <td>0</td>\n",
       "      <td>False</td>\n",
       "      <td>False</td>\n",
       "      <td>en</td>\n",
       "      <td>NaN</td>\n",
       "      <td>NaN</td>\n",
       "      <td>NaN</td>\n",
       "      <td>NaN</td>\n",
       "      <td>NaN</td>\n",
       "      <td>NaN</td>\n",
       "    </tr>\n",
       "    <tr>\n",
       "      <th>1358147616400408576</th>\n",
       "      <td>2021-02-06 20:16:39+00:00</td>\n",
       "      <td>1358147616400408576</td>\n",
       "      <td>RT @RoKhanna: What happens when we guarantee $15/hour?\\n\\n💰 31% of Black workers and 26% of Latinx workers get raises.\\n😷 A majority of essent…</td>\n",
       "      <td>False</td>\n",
       "      <td>[0, 140]</td>\n",
       "      <td>{'hashtags': [], 'symbols': [], 'user_mentions': [{'screen_name': 'RoKhanna', 'name': 'Ro Khanna', 'id': 771152516, 'id_str': '771152516', 'indices': [3, 12]}], 'urls': []}</td>\n",
       "      <td>&lt;a href=\"http://twitter.com/download/iphone\" rel=\"nofollow\"&gt;Twitter for iPhone&lt;/a&gt;</td>\n",
       "      <td>NaN</td>\n",
       "      <td>NaN</td>\n",
       "      <td>NaN</td>\n",
       "      <td>...</td>\n",
       "      <td>0</td>\n",
       "      <td>False</td>\n",
       "      <td>False</td>\n",
       "      <td>en</td>\n",
       "      <td>NaN</td>\n",
       "      <td>NaN</td>\n",
       "      <td>NaN</td>\n",
       "      <td>NaN</td>\n",
       "      <td>NaN</td>\n",
       "      <td>NaN</td>\n",
       "    </tr>\n",
       "    <tr>\n",
       "      <th>1358145332316667909</th>\n",
       "      <td>2021-02-06 20:07:35+00:00</td>\n",
       "      <td>1358145332316667904</td>\n",
       "      <td>(Source: https://t.co/3o5JEr6zpd)</td>\n",
       "      <td>False</td>\n",
       "      <td>[0, 33]</td>\n",
       "      <td>{'hashtags': [], 'symbols': [], 'user_mentions': [], 'urls': [{'url': 'https://t.co/3o5JEr6zpd', 'expanded_url': 'https://www.thestate.com/news/politics-government/election/article246484780.html', 'display_url': 'thestate.com/news/politics-…', 'indices': [9, 32]}]}</td>\n",
       "      <td>&lt;a href=\"http://twitter.com/download/iphone\" rel=\"nofollow\"&gt;Twitter for iPhone&lt;/a&gt;</td>\n",
       "      <td>1.358145e+18</td>\n",
       "      <td>1.358145e+18</td>\n",
       "      <td>138203134.0</td>\n",
       "      <td>...</td>\n",
       "      <td>1026</td>\n",
       "      <td>False</td>\n",
       "      <td>False</td>\n",
       "      <td>en</td>\n",
       "      <td>0.0</td>\n",
       "      <td>NaN</td>\n",
       "      <td>NaN</td>\n",
       "      <td>NaN</td>\n",
       "      <td>NaN</td>\n",
       "      <td>NaN</td>\n",
       "    </tr>\n",
       "    <tr>\n",
       "      <th>1358145218407759875</th>\n",
       "      <td>2021-02-06 20:07:07+00:00</td>\n",
       "      <td>1358145218407759872</td>\n",
       "      <td>Joe Cunningham pledged to never take corporate PAC money, and he never did. Mace said she’ll cash every check she gets. Yet another way this is a downgrade. https://t.co/DytsQXKXgU</td>\n",
       "      <td>False</td>\n",
       "      <td>[0, 156]</td>\n",
       "      <td>{'hashtags': [], 'symbols': [], 'user_mentions': [], 'urls': [], 'media': [{'id': 1358145216155426825, 'id_str': '1358145216155426825', 'indices': [157, 180], 'media_url': 'http://pbs.twimg.com/media/EtkZ4NpXIAknoPV.jpg', 'media_url_https': 'https://pbs.twimg.com/media/EtkZ4N...</td>\n",
       "      <td>&lt;a href=\"http://twitter.com/download/iphone\" rel=\"nofollow\"&gt;Twitter for iPhone&lt;/a&gt;</td>\n",
       "      <td>1.358144e+18</td>\n",
       "      <td>1.358144e+18</td>\n",
       "      <td>138203134.0</td>\n",
       "      <td>...</td>\n",
       "      <td>2880</td>\n",
       "      <td>False</td>\n",
       "      <td>False</td>\n",
       "      <td>en</td>\n",
       "      <td>0.0</td>\n",
       "      <td>{'media': [{'id': 1358145216155426825, 'id_str': '1358145216155426825', 'indices': [157, 180], 'media_url': 'http://pbs.twimg.com/media/EtkZ4NpXIAknoPV.jpg', 'media_url_https': 'https://pbs.twimg.com/media/EtkZ4NpXIAknoPV.jpg', 'url': 'https://t.co/DytsQXKXgU', 'display_url':...</td>\n",
       "      <td>NaN</td>\n",
       "      <td>NaN</td>\n",
       "      <td>NaN</td>\n",
       "      <td>NaN</td>\n",
       "    </tr>\n",
       "    <tr>\n",
       "      <th>1358144207333036040</th>\n",
       "      <td>2021-02-06 20:03:06+00:00</td>\n",
       "      <td>1358144207333036032</td>\n",
       "      <td>What’s even more gross is that Mace takes corporate PAC money.\\n\\nShe’s already funded by corporations. Now she’s choosing to swindle working people on top of it.\\n\\nPeak scam artistry. Caps for cash 💰 https://t.co/CcVxgDF6id</td>\n",
       "      <td>False</td>\n",
       "      <td>[0, 197]</td>\n",
       "      <td>{'hashtags': [], 'symbols': [], 'user_mentions': [], 'urls': [{'url': 'https://t.co/CcVxgDF6id', 'expanded_url': 'https://twitter.com/ddale8/status/1358113234885234689', 'display_url': 'twitter.com/ddale8/status/…', 'indices': [198, 221]}]}</td>\n",
       "      <td>&lt;a href=\"http://twitter.com/download/iphone\" rel=\"nofollow\"&gt;Twitter for iPhone&lt;/a&gt;</td>\n",
       "      <td>NaN</td>\n",
       "      <td>NaN</td>\n",
       "      <td>NaN</td>\n",
       "      <td>...</td>\n",
       "      <td>7765</td>\n",
       "      <td>False</td>\n",
       "      <td>False</td>\n",
       "      <td>en</td>\n",
       "      <td>0.0</td>\n",
       "      <td>NaN</td>\n",
       "      <td>1.358113e+18</td>\n",
       "      <td>1.358113e+18</td>\n",
       "      <td>{'url': 'https://t.co/CcVxgDF6id', 'expanded': 'https://twitter.com/ddale8/status/1358113234885234689', 'display': 'twitter.com/ddale8/status/…'}</td>\n",
       "      <td>{'created_at': 'Sat Feb 06 18:00:02 +0000 2021', 'id': 1358113234885234689, 'id_str': '1358113234885234689', 'full_text': 'Rep. Nancy Mace is now fundraising off of her false insinuation that Rep. Alexandria Ocasio-Cortez falsely said there were insurrectionists in their offi...</td>\n",
       "    </tr>\n",
       "    <tr>\n",
       "      <th>...</th>\n",
       "      <td>...</td>\n",
       "      <td>...</td>\n",
       "      <td>...</td>\n",
       "      <td>...</td>\n",
       "      <td>...</td>\n",
       "      <td>...</td>\n",
       "      <td>...</td>\n",
       "      <td>...</td>\n",
       "      <td>...</td>\n",
       "      <td>...</td>\n",
       "      <td>...</td>\n",
       "      <td>...</td>\n",
       "      <td>...</td>\n",
       "      <td>...</td>\n",
       "      <td>...</td>\n",
       "      <td>...</td>\n",
       "      <td>...</td>\n",
       "      <td>...</td>\n",
       "      <td>...</td>\n",
       "      <td>...</td>\n",
       "      <td>...</td>\n",
       "    </tr>\n",
       "    <tr>\n",
       "      <th>1181935928249606146</th>\n",
       "      <td>2019-10-09 14:14:19+00:00</td>\n",
       "      <td>1181935928249606144</td>\n",
       "      <td>Autocrats: “Jump!”\\nTrump: “How high?”\\n\\n- Trump admin foreign policy, 2019</td>\n",
       "      <td>False</td>\n",
       "      <td>[0, 73]</td>\n",
       "      <td>{'hashtags': [], 'symbols': [], 'user_mentions': [], 'urls': []}</td>\n",
       "      <td>&lt;a href=\"http://twitter.com/download/iphone\" rel=\"nofollow\"&gt;Twitter for iPhone&lt;/a&gt;</td>\n",
       "      <td>NaN</td>\n",
       "      <td>NaN</td>\n",
       "      <td>NaN</td>\n",
       "      <td>...</td>\n",
       "      <td>75938</td>\n",
       "      <td>False</td>\n",
       "      <td>False</td>\n",
       "      <td>en</td>\n",
       "      <td>NaN</td>\n",
       "      <td>NaN</td>\n",
       "      <td>NaN</td>\n",
       "      <td>NaN</td>\n",
       "      <td>NaN</td>\n",
       "      <td>NaN</td>\n",
       "    </tr>\n",
       "    <tr>\n",
       "      <th>1181932554552827905</th>\n",
       "      <td>2019-10-09 14:00:54+00:00</td>\n",
       "      <td>1181932554552827904</td>\n",
       "      <td>RT @HeidiNBC: NEW: Donald Trump's decision to remove troops from Northern Syria has put renewed focus on his business and personal relation…</td>\n",
       "      <td>False</td>\n",
       "      <td>[0, 140]</td>\n",
       "      <td>{'hashtags': [], 'symbols': [], 'user_mentions': [{'screen_name': 'HeidiNBC', 'name': 'Heidi Przybyla', 'id': 234186830, 'id_str': '234186830', 'indices': [3, 12]}], 'urls': []}</td>\n",
       "      <td>&lt;a href=\"http://twitter.com/download/iphone\" rel=\"nofollow\"&gt;Twitter for iPhone&lt;/a&gt;</td>\n",
       "      <td>NaN</td>\n",
       "      <td>NaN</td>\n",
       "      <td>NaN</td>\n",
       "      <td>...</td>\n",
       "      <td>0</td>\n",
       "      <td>False</td>\n",
       "      <td>False</td>\n",
       "      <td>en</td>\n",
       "      <td>NaN</td>\n",
       "      <td>NaN</td>\n",
       "      <td>NaN</td>\n",
       "      <td>NaN</td>\n",
       "      <td>NaN</td>\n",
       "      <td>NaN</td>\n",
       "    </tr>\n",
       "    <tr>\n",
       "      <th>1181932460516478976</th>\n",
       "      <td>2019-10-09 14:00:32+00:00</td>\n",
       "      <td>1181932460516478976</td>\n",
       "      <td>Trump decision isn’t about drawing down US military involvement at all. \\n\\nRemember that earlier this year, Trump VETOED Congress’ attempt to end US involvement in the Yemen War.\\n\\nHe has significant personal financial conflicts of interest in this situation, among other co...</td>\n",
       "      <td>False</td>\n",
       "      <td>[0, 279]</td>\n",
       "      <td>{'hashtags': [], 'symbols': [], 'user_mentions': [], 'urls': [{'url': 'https://t.co/ODpoyZI83r', 'expanded_url': 'https://twitter.com/washingtonpost/status/1181922793451065345', 'display_url': 'twitter.com/washingtonpost…', 'indices': [280, 303]}]}</td>\n",
       "      <td>&lt;a href=\"http://twitter.com/download/iphone\" rel=\"nofollow\"&gt;Twitter for iPhone&lt;/a&gt;</td>\n",
       "      <td>NaN</td>\n",
       "      <td>NaN</td>\n",
       "      <td>NaN</td>\n",
       "      <td>...</td>\n",
       "      <td>32256</td>\n",
       "      <td>False</td>\n",
       "      <td>False</td>\n",
       "      <td>en</td>\n",
       "      <td>0.0</td>\n",
       "      <td>NaN</td>\n",
       "      <td>1.181923e+18</td>\n",
       "      <td>1.181923e+18</td>\n",
       "      <td>{'url': 'https://t.co/ODpoyZI83r', 'expanded': 'https://twitter.com/washingtonpost/status/1181922793451065345', 'display': 'twitter.com/washingtonpost…'}</td>\n",
       "      <td>{'created_at': 'Wed Oct 09 13:22:07 +0000 2019', 'id': 1181922793451065345, 'id_str': '1181922793451065345', 'full_text': 'Turkey's Erdogan announces start of military offensive in northern Syria after Trump's decision to withdraw U.S. troops https://t.co/PjbMduxLzt', 'trunca...</td>\n",
       "    </tr>\n",
       "    <tr>\n",
       "      <th>1181927615340453899</th>\n",
       "      <td>2019-10-09 13:41:17+00:00</td>\n",
       "      <td>1181927615340453888</td>\n",
       "      <td>Federal govs are failing to act on the climate crisis.\\n\\nWe can’t wait for others to lead.\\n\\nThat’s why I’m in Copenhagen w/ C40 mayors, trade unions, youth climate strikers, business &amp;amp; citizen reps from around the world to rally for a Global #GreenNewDeal. https://t.co...</td>\n",
       "      <td>False</td>\n",
       "      <td>[0, 283]</td>\n",
       "      <td>{'hashtags': [{'text': 'GreenNewDeal', 'indices': [245, 258]}], 'symbols': [], 'user_mentions': [], 'urls': [{'url': 'https://t.co/uJjcrkjbTH', 'expanded_url': 'https://urldefense.proofpoint.com/v2/url?u=http-3A__bit.ly_global-2DGND&amp;d=DwIFaQ&amp;c=L93KkjKsAC98uTvC4KvQDdTDRzAeWDDR...</td>\n",
       "      <td>&lt;a href=\"http://twitter.com/download/iphone\" rel=\"nofollow\"&gt;Twitter for iPhone&lt;/a&gt;</td>\n",
       "      <td>NaN</td>\n",
       "      <td>NaN</td>\n",
       "      <td>NaN</td>\n",
       "      <td>...</td>\n",
       "      <td>7733</td>\n",
       "      <td>False</td>\n",
       "      <td>False</td>\n",
       "      <td>en</td>\n",
       "      <td>0.0</td>\n",
       "      <td>NaN</td>\n",
       "      <td>NaN</td>\n",
       "      <td>NaN</td>\n",
       "      <td>NaN</td>\n",
       "      <td>NaN</td>\n",
       "    </tr>\n",
       "    <tr>\n",
       "      <th>1181804625588051968</th>\n",
       "      <td>2019-10-09 05:32:34+00:00</td>\n",
       "      <td>1181804625588051968</td>\n",
       "      <td>RT @LeanInOrg: Thank you @AOC for highlighting the #genderbias that women face *every day.* And for the record, not hiring or firing a woma…</td>\n",
       "      <td>False</td>\n",
       "      <td>[0, 140]</td>\n",
       "      <td>{'hashtags': [{'text': 'genderbias', 'indices': [51, 62]}], 'symbols': [], 'user_mentions': [{'screen_name': 'LeanInOrg', 'name': 'Lean In', 'id': 743585142, 'id_str': '743585142', 'indices': [3, 13]}, {'screen_name': 'AOC', 'name': 'Alexandria Ocasio-Cortez', 'id': 138203134...</td>\n",
       "      <td>&lt;a href=\"http://twitter.com/download/iphone\" rel=\"nofollow\"&gt;Twitter for iPhone&lt;/a&gt;</td>\n",
       "      <td>NaN</td>\n",
       "      <td>NaN</td>\n",
       "      <td>NaN</td>\n",
       "      <td>...</td>\n",
       "      <td>0</td>\n",
       "      <td>False</td>\n",
       "      <td>False</td>\n",
       "      <td>en</td>\n",
       "      <td>NaN</td>\n",
       "      <td>NaN</td>\n",
       "      <td>1.181696e+18</td>\n",
       "      <td>1.181696e+18</td>\n",
       "      <td>{'url': 'https://t.co/S9q3D4wGcb', 'expanded': 'https://twitter.com/AOC/status/1181695574803931136', 'display': 'twitter.com/AOC/status/118…'}</td>\n",
       "      <td>NaN</td>\n",
       "    </tr>\n",
       "  </tbody>\n",
       "</table>\n",
       "<p>3247 rows × 30 columns</p>\n",
       "</div>"
      ],
      "text/plain": [
       "                                   created_at               id_str  \\\n",
       "id                                                                   \n",
       "1358149122264563712 2021-02-06 20:22:38+00:00  1358149122264563712   \n",
       "1358147616400408576 2021-02-06 20:16:39+00:00  1358147616400408576   \n",
       "1358145332316667909 2021-02-06 20:07:35+00:00  1358145332316667904   \n",
       "1358145218407759875 2021-02-06 20:07:07+00:00  1358145218407759872   \n",
       "1358144207333036040 2021-02-06 20:03:06+00:00  1358144207333036032   \n",
       "...                                       ...                  ...   \n",
       "1181935928249606146 2019-10-09 14:14:19+00:00  1181935928249606144   \n",
       "1181932554552827905 2019-10-09 14:00:54+00:00  1181932554552827904   \n",
       "1181932460516478976 2019-10-09 14:00:32+00:00  1181932460516478976   \n",
       "1181927615340453899 2019-10-09 13:41:17+00:00  1181927615340453888   \n",
       "1181804625588051968 2019-10-09 05:32:34+00:00  1181804625588051968   \n",
       "\n",
       "                                                                                                                                                                                                                                                                                                   full_text  \\\n",
       "id                                                                                                                                                                                                                                                                                                             \n",
       "1358149122264563712                                                                                                                                           RT @RepEscobar: Our country has the moral obligation and responsibility to reunite every single family separated at the southern border.\\n\\nT…   \n",
       "1358147616400408576                                                                                                                                          RT @RoKhanna: What happens when we guarantee $15/hour?\\n\\n💰 31% of Black workers and 26% of Latinx workers get raises.\\n😷 A majority of essent…   \n",
       "1358145332316667909                                                                                                                                                                                                                                                        (Source: https://t.co/3o5JEr6zpd)   \n",
       "1358145218407759875                                                                                                     Joe Cunningham pledged to never take corporate PAC money, and he never did. Mace said she’ll cash every check she gets. Yet another way this is a downgrade. https://t.co/DytsQXKXgU   \n",
       "1358144207333036040                                                        What’s even more gross is that Mace takes corporate PAC money.\\n\\nShe’s already funded by corporations. Now she’s choosing to swindle working people on top of it.\\n\\nPeak scam artistry. Caps for cash 💰 https://t.co/CcVxgDF6id   \n",
       "...                                                                                                                                                                                                                                                                                                      ...   \n",
       "1181935928249606146                                                                                                                                                                                                             Autocrats: “Jump!”\\nTrump: “How high?”\\n\\n- Trump admin foreign policy, 2019   \n",
       "1181932554552827905                                                                                                                                             RT @HeidiNBC: NEW: Donald Trump's decision to remove troops from Northern Syria has put renewed focus on his business and personal relation…   \n",
       "1181932460516478976  Trump decision isn’t about drawing down US military involvement at all. \\n\\nRemember that earlier this year, Trump VETOED Congress’ attempt to end US involvement in the Yemen War.\\n\\nHe has significant personal financial conflicts of interest in this situation, among other co...   \n",
       "1181927615340453899  Federal govs are failing to act on the climate crisis.\\n\\nWe can’t wait for others to lead.\\n\\nThat’s why I’m in Copenhagen w/ C40 mayors, trade unions, youth climate strikers, business &amp; citizen reps from around the world to rally for a Global #GreenNewDeal. https://t.co...   \n",
       "1181804625588051968                                                                                                                                             RT @LeanInOrg: Thank you @AOC for highlighting the #genderbias that women face *every day.* And for the record, not hiring or firing a woma…   \n",
       "\n",
       "                     truncated display_text_range  \\\n",
       "id                                                  \n",
       "1358149122264563712      False           [0, 140]   \n",
       "1358147616400408576      False           [0, 140]   \n",
       "1358145332316667909      False            [0, 33]   \n",
       "1358145218407759875      False           [0, 156]   \n",
       "1358144207333036040      False           [0, 197]   \n",
       "...                        ...                ...   \n",
       "1181935928249606146      False            [0, 73]   \n",
       "1181932554552827905      False           [0, 140]   \n",
       "1181932460516478976      False           [0, 279]   \n",
       "1181927615340453899      False           [0, 283]   \n",
       "1181804625588051968      False           [0, 140]   \n",
       "\n",
       "                                                                                                                                                                                                                                                                                                    entities  \\\n",
       "id                                                                                                                                                                                                                                                                                                             \n",
       "1358149122264563712                                                                           {'hashtags': [], 'symbols': [], 'user_mentions': [{'screen_name': 'RepEscobar', 'name': 'Rep. Veronica Escobar', 'id': 1075517806551154689, 'id_str': '1075517806551154689', 'indices': [3, 14]}], 'urls': []}   \n",
       "1358147616400408576                                                                                                             {'hashtags': [], 'symbols': [], 'user_mentions': [{'screen_name': 'RoKhanna', 'name': 'Ro Khanna', 'id': 771152516, 'id_str': '771152516', 'indices': [3, 12]}], 'urls': []}   \n",
       "1358145332316667909                {'hashtags': [], 'symbols': [], 'user_mentions': [], 'urls': [{'url': 'https://t.co/3o5JEr6zpd', 'expanded_url': 'https://www.thestate.com/news/politics-government/election/article246484780.html', 'display_url': 'thestate.com/news/politics-…', 'indices': [9, 32]}]}   \n",
       "1358145218407759875  {'hashtags': [], 'symbols': [], 'user_mentions': [], 'urls': [], 'media': [{'id': 1358145216155426825, 'id_str': '1358145216155426825', 'indices': [157, 180], 'media_url': 'http://pbs.twimg.com/media/EtkZ4NpXIAknoPV.jpg', 'media_url_https': 'https://pbs.twimg.com/media/EtkZ4N...   \n",
       "1358144207333036040                                         {'hashtags': [], 'symbols': [], 'user_mentions': [], 'urls': [{'url': 'https://t.co/CcVxgDF6id', 'expanded_url': 'https://twitter.com/ddale8/status/1358113234885234689', 'display_url': 'twitter.com/ddale8/status/…', 'indices': [198, 221]}]}   \n",
       "...                                                                                                                                                                                                                                                                                                      ...   \n",
       "1181935928249606146                                                                                                                                                                                                                         {'hashtags': [], 'symbols': [], 'user_mentions': [], 'urls': []}   \n",
       "1181932554552827905                                                                                                        {'hashtags': [], 'symbols': [], 'user_mentions': [{'screen_name': 'HeidiNBC', 'name': 'Heidi Przybyla', 'id': 234186830, 'id_str': '234186830', 'indices': [3, 12]}], 'urls': []}   \n",
       "1181932460516478976                                 {'hashtags': [], 'symbols': [], 'user_mentions': [], 'urls': [{'url': 'https://t.co/ODpoyZI83r', 'expanded_url': 'https://twitter.com/washingtonpost/status/1181922793451065345', 'display_url': 'twitter.com/washingtonpost…', 'indices': [280, 303]}]}   \n",
       "1181927615340453899  {'hashtags': [{'text': 'GreenNewDeal', 'indices': [245, 258]}], 'symbols': [], 'user_mentions': [], 'urls': [{'url': 'https://t.co/uJjcrkjbTH', 'expanded_url': 'https://urldefense.proofpoint.com/v2/url?u=http-3A__bit.ly_global-2DGND&d=DwIFaQ&c=L93KkjKsAC98uTvC4KvQDdTDRzAeWDDR...   \n",
       "1181804625588051968  {'hashtags': [{'text': 'genderbias', 'indices': [51, 62]}], 'symbols': [], 'user_mentions': [{'screen_name': 'LeanInOrg', 'name': 'Lean In', 'id': 743585142, 'id_str': '743585142', 'indices': [3, 13]}, {'screen_name': 'AOC', 'name': 'Alexandria Ocasio-Cortez', 'id': 138203134...   \n",
       "\n",
       "                                                                                                 source  \\\n",
       "id                                                                                                        \n",
       "1358149122264563712  <a href=\"http://twitter.com/download/iphone\" rel=\"nofollow\">Twitter for iPhone</a>   \n",
       "1358147616400408576  <a href=\"http://twitter.com/download/iphone\" rel=\"nofollow\">Twitter for iPhone</a>   \n",
       "1358145332316667909  <a href=\"http://twitter.com/download/iphone\" rel=\"nofollow\">Twitter for iPhone</a>   \n",
       "1358145218407759875  <a href=\"http://twitter.com/download/iphone\" rel=\"nofollow\">Twitter for iPhone</a>   \n",
       "1358144207333036040  <a href=\"http://twitter.com/download/iphone\" rel=\"nofollow\">Twitter for iPhone</a>   \n",
       "...                                                                                                 ...   \n",
       "1181935928249606146  <a href=\"http://twitter.com/download/iphone\" rel=\"nofollow\">Twitter for iPhone</a>   \n",
       "1181932554552827905  <a href=\"http://twitter.com/download/iphone\" rel=\"nofollow\">Twitter for iPhone</a>   \n",
       "1181932460516478976  <a href=\"http://twitter.com/download/iphone\" rel=\"nofollow\">Twitter for iPhone</a>   \n",
       "1181927615340453899  <a href=\"http://twitter.com/download/iphone\" rel=\"nofollow\">Twitter for iPhone</a>   \n",
       "1181804625588051968  <a href=\"http://twitter.com/download/iphone\" rel=\"nofollow\">Twitter for iPhone</a>   \n",
       "\n",
       "                     in_reply_to_status_id  in_reply_to_status_id_str  \\\n",
       "id                                                                      \n",
       "1358149122264563712                    NaN                        NaN   \n",
       "1358147616400408576                    NaN                        NaN   \n",
       "1358145332316667909           1.358145e+18               1.358145e+18   \n",
       "1358145218407759875           1.358144e+18               1.358144e+18   \n",
       "1358144207333036040                    NaN                        NaN   \n",
       "...                                    ...                        ...   \n",
       "1181935928249606146                    NaN                        NaN   \n",
       "1181932554552827905                    NaN                        NaN   \n",
       "1181932460516478976                    NaN                        NaN   \n",
       "1181927615340453899                    NaN                        NaN   \n",
       "1181804625588051968                    NaN                        NaN   \n",
       "\n",
       "                     in_reply_to_user_id  ...  favorite_count favorited  \\\n",
       "id                                        ...                             \n",
       "1358149122264563712                  NaN  ...               0     False   \n",
       "1358147616400408576                  NaN  ...               0     False   \n",
       "1358145332316667909          138203134.0  ...            1026     False   \n",
       "1358145218407759875          138203134.0  ...            2880     False   \n",
       "1358144207333036040                  NaN  ...            7765     False   \n",
       "...                                  ...  ...             ...       ...   \n",
       "1181935928249606146                  NaN  ...           75938     False   \n",
       "1181932554552827905                  NaN  ...               0     False   \n",
       "1181932460516478976                  NaN  ...           32256     False   \n",
       "1181927615340453899                  NaN  ...            7733     False   \n",
       "1181804625588051968                  NaN  ...               0     False   \n",
       "\n",
       "                    retweeted  lang  possibly_sensitive  \\\n",
       "id                                                        \n",
       "1358149122264563712     False    en                 NaN   \n",
       "1358147616400408576     False    en                 NaN   \n",
       "1358145332316667909     False    en                 0.0   \n",
       "1358145218407759875     False    en                 0.0   \n",
       "1358144207333036040     False    en                 0.0   \n",
       "...                       ...   ...                 ...   \n",
       "1181935928249606146     False    en                 NaN   \n",
       "1181932554552827905     False    en                 NaN   \n",
       "1181932460516478976     False    en                 0.0   \n",
       "1181927615340453899     False    en                 0.0   \n",
       "1181804625588051968     False    en                 NaN   \n",
       "\n",
       "                                                                                                                                                                                                                                                                                           extended_entities  \\\n",
       "id                                                                                                                                                                                                                                                                                                             \n",
       "1358149122264563712                                                                                                                                                                                                                                                                                      NaN   \n",
       "1358147616400408576                                                                                                                                                                                                                                                                                      NaN   \n",
       "1358145332316667909                                                                                                                                                                                                                                                                                      NaN   \n",
       "1358145218407759875  {'media': [{'id': 1358145216155426825, 'id_str': '1358145216155426825', 'indices': [157, 180], 'media_url': 'http://pbs.twimg.com/media/EtkZ4NpXIAknoPV.jpg', 'media_url_https': 'https://pbs.twimg.com/media/EtkZ4NpXIAknoPV.jpg', 'url': 'https://t.co/DytsQXKXgU', 'display_url':...   \n",
       "1358144207333036040                                                                                                                                                                                                                                                                                      NaN   \n",
       "...                                                                                                                                                                                                                                                                                                      ...   \n",
       "1181935928249606146                                                                                                                                                                                                                                                                                      NaN   \n",
       "1181932554552827905                                                                                                                                                                                                                                                                                      NaN   \n",
       "1181932460516478976                                                                                                                                                                                                                                                                                      NaN   \n",
       "1181927615340453899                                                                                                                                                                                                                                                                                      NaN   \n",
       "1181804625588051968                                                                                                                                                                                                                                                                                      NaN   \n",
       "\n",
       "                     quoted_status_id quoted_status_id_str  \\\n",
       "id                                                           \n",
       "1358149122264563712               NaN                  NaN   \n",
       "1358147616400408576               NaN                  NaN   \n",
       "1358145332316667909               NaN                  NaN   \n",
       "1358145218407759875               NaN                  NaN   \n",
       "1358144207333036040      1.358113e+18         1.358113e+18   \n",
       "...                               ...                  ...   \n",
       "1181935928249606146               NaN                  NaN   \n",
       "1181932554552827905               NaN                  NaN   \n",
       "1181932460516478976      1.181923e+18         1.181923e+18   \n",
       "1181927615340453899               NaN                  NaN   \n",
       "1181804625588051968      1.181696e+18         1.181696e+18   \n",
       "\n",
       "                                                                                                                                                       quoted_status_permalink  \\\n",
       "id                                                                                                                                                                               \n",
       "1358149122264563712                                                                                                                                                        NaN   \n",
       "1358147616400408576                                                                                                                                                        NaN   \n",
       "1358145332316667909                                                                                                                                                        NaN   \n",
       "1358145218407759875                                                                                                                                                        NaN   \n",
       "1358144207333036040          {'url': 'https://t.co/CcVxgDF6id', 'expanded': 'https://twitter.com/ddale8/status/1358113234885234689', 'display': 'twitter.com/ddale8/status/…'}   \n",
       "...                                                                                                                                                                        ...   \n",
       "1181935928249606146                                                                                                                                                        NaN   \n",
       "1181932554552827905                                                                                                                                                        NaN   \n",
       "1181932460516478976  {'url': 'https://t.co/ODpoyZI83r', 'expanded': 'https://twitter.com/washingtonpost/status/1181922793451065345', 'display': 'twitter.com/washingtonpost…'}   \n",
       "1181927615340453899                                                                                                                                                        NaN   \n",
       "1181804625588051968             {'url': 'https://t.co/S9q3D4wGcb', 'expanded': 'https://twitter.com/AOC/status/1181695574803931136', 'display': 'twitter.com/AOC/status/118…'}   \n",
       "\n",
       "                                                                                                                                                                                                                                                                                               quoted_status  \n",
       "id                                                                                                                                                                                                                                                                                                            \n",
       "1358149122264563712                                                                                                                                                                                                                                                                                      NaN  \n",
       "1358147616400408576                                                                                                                                                                                                                                                                                      NaN  \n",
       "1358145332316667909                                                                                                                                                                                                                                                                                      NaN  \n",
       "1358145218407759875                                                                                                                                                                                                                                                                                      NaN  \n",
       "1358144207333036040  {'created_at': 'Sat Feb 06 18:00:02 +0000 2021', 'id': 1358113234885234689, 'id_str': '1358113234885234689', 'full_text': 'Rep. Nancy Mace is now fundraising off of her false insinuation that Rep. Alexandria Ocasio-Cortez falsely said there were insurrectionists in their offi...  \n",
       "...                                                                                                                                                                                                                                                                                                      ...  \n",
       "1181935928249606146                                                                                                                                                                                                                                                                                      NaN  \n",
       "1181932554552827905                                                                                                                                                                                                                                                                                      NaN  \n",
       "1181932460516478976  {'created_at': 'Wed Oct 09 13:22:07 +0000 2019', 'id': 1181922793451065345, 'id_str': '1181922793451065345', 'full_text': 'Turkey's Erdogan announces start of military offensive in northern Syria after Trump's decision to withdraw U.S. troops https://t.co/PjbMduxLzt', 'trunca...  \n",
       "1181927615340453899                                                                                                                                                                                                                                                                                      NaN  \n",
       "1181804625588051968                                                                                                                                                                                                                                                                                      NaN  \n",
       "\n",
       "[3247 rows x 30 columns]"
      ]
     },
     "execution_count": 18,
     "metadata": {},
     "output_type": "execute_result"
    }
   ],
   "source": [
    "pd.read_json(\"data/AOC_recent_tweets.txt\").set_index(\"id\")"
   ]
  },
  {
   "cell_type": "code",
   "execution_count": 19,
   "metadata": {},
   "outputs": [],
   "source": [
    "tweets = {\n",
    "    \"AOC\": pd.read_json(\"data/AOC_recent_tweets.txt\").set_index(\"id\"),\n",
    "    \"Cristiano\": pd.read_json(\"data/Cristiano_recent_tweets.txt\").set_index(\"id\"),\n",
    "    \"elonmusk\": pd.read_json(\"data/elonmusk_recent_tweets.txt\").set_index(\"id\"),\n",
    "}"
   ]
  },
  {
   "cell_type": "code",
   "execution_count": 20,
   "metadata": {
    "deletable": false,
    "editable": false
   },
   "outputs": [
    {
     "data": {
      "text/html": [
       "<p><strong><pre style='display: inline;'>q1c</pre></strong> passed! 💯</p>"
      ],
      "text/plain": [
       "q1c results: All test cases passed!"
      ]
     },
     "execution_count": 20,
     "metadata": {},
     "output_type": "execute_result"
    }
   ],
   "source": [
    "grader.check(\"q1c\")"
   ]
  },
  {
   "cell_type": "markdown",
   "metadata": {},
   "source": [
    "If you did everything correctly, the following cells will show you the first 5 tweets for Elon Musk (and a lot of information about those tweets)."
   ]
  },
  {
   "cell_type": "code",
   "execution_count": 21,
   "metadata": {},
   "outputs": [
    {
     "data": {
      "text/html": [
       "<div>\n",
       "<style scoped>\n",
       "    .dataframe tbody tr th:only-of-type {\n",
       "        vertical-align: middle;\n",
       "    }\n",
       "\n",
       "    .dataframe tbody tr th {\n",
       "        vertical-align: top;\n",
       "    }\n",
       "\n",
       "    .dataframe thead th {\n",
       "        text-align: right;\n",
       "    }\n",
       "</style>\n",
       "<table border=\"1\" class=\"dataframe\">\n",
       "  <thead>\n",
       "    <tr style=\"text-align: right;\">\n",
       "      <th></th>\n",
       "      <th>created_at</th>\n",
       "      <th>id_str</th>\n",
       "      <th>full_text</th>\n",
       "      <th>truncated</th>\n",
       "      <th>display_text_range</th>\n",
       "      <th>entities</th>\n",
       "      <th>extended_entities</th>\n",
       "      <th>source</th>\n",
       "      <th>in_reply_to_status_id</th>\n",
       "      <th>in_reply_to_status_id_str</th>\n",
       "      <th>...</th>\n",
       "      <th>favorite_count</th>\n",
       "      <th>favorited</th>\n",
       "      <th>retweeted</th>\n",
       "      <th>possibly_sensitive</th>\n",
       "      <th>lang</th>\n",
       "      <th>retweeted_status</th>\n",
       "      <th>quoted_status_id</th>\n",
       "      <th>quoted_status_id_str</th>\n",
       "      <th>quoted_status_permalink</th>\n",
       "      <th>quoted_status</th>\n",
       "    </tr>\n",
       "    <tr>\n",
       "      <th>id</th>\n",
       "      <th></th>\n",
       "      <th></th>\n",
       "      <th></th>\n",
       "      <th></th>\n",
       "      <th></th>\n",
       "      <th></th>\n",
       "      <th></th>\n",
       "      <th></th>\n",
       "      <th></th>\n",
       "      <th></th>\n",
       "      <th></th>\n",
       "      <th></th>\n",
       "      <th></th>\n",
       "      <th></th>\n",
       "      <th></th>\n",
       "      <th></th>\n",
       "      <th></th>\n",
       "      <th></th>\n",
       "      <th></th>\n",
       "      <th></th>\n",
       "      <th></th>\n",
       "    </tr>\n",
       "  </thead>\n",
       "  <tbody>\n",
       "    <tr>\n",
       "      <th>1357991946082418690</th>\n",
       "      <td>2021-02-06 09:58:04+00:00</td>\n",
       "      <td>1357991946082418688</td>\n",
       "      <td>The Second Last Kingdom https://t.co/Je4EI88HmV</td>\n",
       "      <td>False</td>\n",
       "      <td>[0, 23]</td>\n",
       "      <td>{'hashtags': [], 'symbols': [], 'user_mentions': [], 'urls': [], 'media': [{'id': 1357991942471094275, 'id_str': '1357991942471094275', 'indices': [24, 47], 'media_url': 'http://pbs.twimg.com/media/EtiOegrVEAMCgZE.jpg', 'media_url_https': 'https://pbs.twimg.com/media/EtiOegrV...</td>\n",
       "      <td>{'media': [{'id': 1357991942471094275, 'id_str': '1357991942471094275', 'indices': [24, 47], 'media_url': 'http://pbs.twimg.com/media/EtiOegrVEAMCgZE.jpg', 'media_url_https': 'https://pbs.twimg.com/media/EtiOegrVEAMCgZE.jpg', 'url': 'https://t.co/Je4EI88HmV', 'display_url': '...</td>\n",
       "      <td>&lt;a href=\"http://twitter.com/download/iphone\" rel=\"nofollow\"&gt;Twitter for iPhone&lt;/a&gt;</td>\n",
       "      <td>NaN</td>\n",
       "      <td>NaN</td>\n",
       "      <td>...</td>\n",
       "      <td>352096</td>\n",
       "      <td>False</td>\n",
       "      <td>False</td>\n",
       "      <td>0.0</td>\n",
       "      <td>en</td>\n",
       "      <td>NaN</td>\n",
       "      <td>NaN</td>\n",
       "      <td>NaN</td>\n",
       "      <td>NaN</td>\n",
       "      <td>NaN</td>\n",
       "    </tr>\n",
       "    <tr>\n",
       "      <th>1357973565413367808</th>\n",
       "      <td>2021-02-06 08:45:02+00:00</td>\n",
       "      <td>1357973565413367808</td>\n",
       "      <td>@DumDin7 @Grimezsz Haven’t heard that name in years …</td>\n",
       "      <td>False</td>\n",
       "      <td>[19, 53]</td>\n",
       "      <td>{'hashtags': [], 'symbols': [], 'user_mentions': [{'screen_name': 'DumDin7', 'name': 'Dum Din', 'id': 1279896279733145601, 'id_str': '1279896279733145601', 'indices': [0, 8]}, {'screen_name': 'Grimezsz', 'name': '𝑪𝒍𝒂𝒊𝒓𝒆 𝒅𝒆 𝑳𝒖𝒏𝒆࿎', 'id': 276540738, 'id_str': '276540738', 'indi...</td>\n",
       "      <td>NaN</td>\n",
       "      <td>&lt;a href=\"http://twitter.com/download/iphone\" rel=\"nofollow\"&gt;Twitter for iPhone&lt;/a&gt;</td>\n",
       "      <td>1.357973e+18</td>\n",
       "      <td>1.357973e+18</td>\n",
       "      <td>...</td>\n",
       "      <td>2155</td>\n",
       "      <td>False</td>\n",
       "      <td>False</td>\n",
       "      <td>NaN</td>\n",
       "      <td>en</td>\n",
       "      <td>NaN</td>\n",
       "      <td>NaN</td>\n",
       "      <td>NaN</td>\n",
       "      <td>NaN</td>\n",
       "      <td>NaN</td>\n",
       "    </tr>\n",
       "    <tr>\n",
       "      <th>1357972904663687173</th>\n",
       "      <td>2021-02-06 08:42:25+00:00</td>\n",
       "      <td>1357972904663687168</td>\n",
       "      <td>@Grimezsz Dogecake</td>\n",
       "      <td>False</td>\n",
       "      <td>[10, 18]</td>\n",
       "      <td>{'hashtags': [], 'symbols': [], 'user_mentions': [{'screen_name': 'Grimezsz', 'name': '𝑪𝒍𝒂𝒊𝒓𝒆 𝒅𝒆 𝑳𝒖𝒏𝒆࿎', 'id': 276540738, 'id_str': '276540738', 'indices': [0, 9]}], 'urls': []}</td>\n",
       "      <td>NaN</td>\n",
       "      <td>&lt;a href=\"http://twitter.com/download/iphone\" rel=\"nofollow\"&gt;Twitter for iPhone&lt;/a&gt;</td>\n",
       "      <td>1.357835e+18</td>\n",
       "      <td>1.357835e+18</td>\n",
       "      <td>...</td>\n",
       "      <td>5373</td>\n",
       "      <td>False</td>\n",
       "      <td>False</td>\n",
       "      <td>NaN</td>\n",
       "      <td>en</td>\n",
       "      <td>NaN</td>\n",
       "      <td>NaN</td>\n",
       "      <td>NaN</td>\n",
       "      <td>NaN</td>\n",
       "      <td>NaN</td>\n",
       "    </tr>\n",
       "    <tr>\n",
       "      <th>1357970517165182979</th>\n",
       "      <td>2021-02-06 08:32:55+00:00</td>\n",
       "      <td>1357970517165182976</td>\n",
       "      <td>YOLT\\n\\nhttps://t.co/cnOf9yjpF1</td>\n",
       "      <td>False</td>\n",
       "      <td>[0, 29]</td>\n",
       "      <td>{'hashtags': [], 'symbols': [], 'user_mentions': [], 'urls': [{'url': 'https://t.co/cnOf9yjpF1', 'expanded_url': 'https://m.youtube.com/watch?v=05QJlF06F4s', 'display_url': 'm.youtube.com/watch?v=05QJlF…', 'indices': [6, 29]}]}</td>\n",
       "      <td>NaN</td>\n",
       "      <td>&lt;a href=\"http://twitter.com/download/iphone\" rel=\"nofollow\"&gt;Twitter for iPhone&lt;/a&gt;</td>\n",
       "      <td>NaN</td>\n",
       "      <td>NaN</td>\n",
       "      <td>...</td>\n",
       "      <td>62717</td>\n",
       "      <td>False</td>\n",
       "      <td>False</td>\n",
       "      <td>0.0</td>\n",
       "      <td>en</td>\n",
       "      <td>NaN</td>\n",
       "      <td>NaN</td>\n",
       "      <td>NaN</td>\n",
       "      <td>NaN</td>\n",
       "      <td>NaN</td>\n",
       "    </tr>\n",
       "    <tr>\n",
       "      <th>1357964347813687296</th>\n",
       "      <td>2021-02-06 08:08:24+00:00</td>\n",
       "      <td>1357964347813687296</td>\n",
       "      <td>@Kristennetten That’s Damian</td>\n",
       "      <td>False</td>\n",
       "      <td>[15, 28]</td>\n",
       "      <td>{'hashtags': [], 'symbols': [], 'user_mentions': [{'screen_name': 'Kristennetten', 'name': 'K10✨', 'id': 985686123123949568, 'id_str': '985686123123949568', 'indices': [0, 14]}], 'urls': []}</td>\n",
       "      <td>NaN</td>\n",
       "      <td>&lt;a href=\"http://twitter.com/download/iphone\" rel=\"nofollow\"&gt;Twitter for iPhone&lt;/a&gt;</td>\n",
       "      <td>1.357964e+18</td>\n",
       "      <td>1.357964e+18</td>\n",
       "      <td>...</td>\n",
       "      <td>5726</td>\n",
       "      <td>False</td>\n",
       "      <td>False</td>\n",
       "      <td>NaN</td>\n",
       "      <td>en</td>\n",
       "      <td>NaN</td>\n",
       "      <td>NaN</td>\n",
       "      <td>NaN</td>\n",
       "      <td>NaN</td>\n",
       "      <td>NaN</td>\n",
       "    </tr>\n",
       "  </tbody>\n",
       "</table>\n",
       "<p>5 rows × 30 columns</p>\n",
       "</div>"
      ],
      "text/plain": [
       "                                   created_at               id_str  \\\n",
       "id                                                                   \n",
       "1357991946082418690 2021-02-06 09:58:04+00:00  1357991946082418688   \n",
       "1357973565413367808 2021-02-06 08:45:02+00:00  1357973565413367808   \n",
       "1357972904663687173 2021-02-06 08:42:25+00:00  1357972904663687168   \n",
       "1357970517165182979 2021-02-06 08:32:55+00:00  1357970517165182976   \n",
       "1357964347813687296 2021-02-06 08:08:24+00:00  1357964347813687296   \n",
       "\n",
       "                                                                 full_text  \\\n",
       "id                                                                           \n",
       "1357991946082418690        The Second Last Kingdom https://t.co/Je4EI88HmV   \n",
       "1357973565413367808  @DumDin7 @Grimezsz Haven’t heard that name in years …   \n",
       "1357972904663687173                                     @Grimezsz Dogecake   \n",
       "1357970517165182979                        YOLT\\n\\nhttps://t.co/cnOf9yjpF1   \n",
       "1357964347813687296                           @Kristennetten That’s Damian   \n",
       "\n",
       "                     truncated display_text_range  \\\n",
       "id                                                  \n",
       "1357991946082418690      False            [0, 23]   \n",
       "1357973565413367808      False           [19, 53]   \n",
       "1357972904663687173      False           [10, 18]   \n",
       "1357970517165182979      False            [0, 29]   \n",
       "1357964347813687296      False           [15, 28]   \n",
       "\n",
       "                                                                                                                                                                                                                                                                                                    entities  \\\n",
       "id                                                                                                                                                                                                                                                                                                             \n",
       "1357991946082418690  {'hashtags': [], 'symbols': [], 'user_mentions': [], 'urls': [], 'media': [{'id': 1357991942471094275, 'id_str': '1357991942471094275', 'indices': [24, 47], 'media_url': 'http://pbs.twimg.com/media/EtiOegrVEAMCgZE.jpg', 'media_url_https': 'https://pbs.twimg.com/media/EtiOegrV...   \n",
       "1357973565413367808  {'hashtags': [], 'symbols': [], 'user_mentions': [{'screen_name': 'DumDin7', 'name': 'Dum Din', 'id': 1279896279733145601, 'id_str': '1279896279733145601', 'indices': [0, 8]}, {'screen_name': 'Grimezsz', 'name': '𝑪𝒍𝒂𝒊𝒓𝒆 𝒅𝒆 𝑳𝒖𝒏𝒆࿎', 'id': 276540738, 'id_str': '276540738', 'indi...   \n",
       "1357972904663687173                                                                                                        {'hashtags': [], 'symbols': [], 'user_mentions': [{'screen_name': 'Grimezsz', 'name': '𝑪𝒍𝒂𝒊𝒓𝒆 𝒅𝒆 𝑳𝒖𝒏𝒆࿎', 'id': 276540738, 'id_str': '276540738', 'indices': [0, 9]}], 'urls': []}   \n",
       "1357970517165182979                                                      {'hashtags': [], 'symbols': [], 'user_mentions': [], 'urls': [{'url': 'https://t.co/cnOf9yjpF1', 'expanded_url': 'https://m.youtube.com/watch?v=05QJlF06F4s', 'display_url': 'm.youtube.com/watch?v=05QJlF…', 'indices': [6, 29]}]}   \n",
       "1357964347813687296                                                                                           {'hashtags': [], 'symbols': [], 'user_mentions': [{'screen_name': 'Kristennetten', 'name': 'K10✨', 'id': 985686123123949568, 'id_str': '985686123123949568', 'indices': [0, 14]}], 'urls': []}   \n",
       "\n",
       "                                                                                                                                                                                                                                                                                           extended_entities  \\\n",
       "id                                                                                                                                                                                                                                                                                                             \n",
       "1357991946082418690  {'media': [{'id': 1357991942471094275, 'id_str': '1357991942471094275', 'indices': [24, 47], 'media_url': 'http://pbs.twimg.com/media/EtiOegrVEAMCgZE.jpg', 'media_url_https': 'https://pbs.twimg.com/media/EtiOegrVEAMCgZE.jpg', 'url': 'https://t.co/Je4EI88HmV', 'display_url': '...   \n",
       "1357973565413367808                                                                                                                                                                                                                                                                                      NaN   \n",
       "1357972904663687173                                                                                                                                                                                                                                                                                      NaN   \n",
       "1357970517165182979                                                                                                                                                                                                                                                                                      NaN   \n",
       "1357964347813687296                                                                                                                                                                                                                                                                                      NaN   \n",
       "\n",
       "                                                                                                 source  \\\n",
       "id                                                                                                        \n",
       "1357991946082418690  <a href=\"http://twitter.com/download/iphone\" rel=\"nofollow\">Twitter for iPhone</a>   \n",
       "1357973565413367808  <a href=\"http://twitter.com/download/iphone\" rel=\"nofollow\">Twitter for iPhone</a>   \n",
       "1357972904663687173  <a href=\"http://twitter.com/download/iphone\" rel=\"nofollow\">Twitter for iPhone</a>   \n",
       "1357970517165182979  <a href=\"http://twitter.com/download/iphone\" rel=\"nofollow\">Twitter for iPhone</a>   \n",
       "1357964347813687296  <a href=\"http://twitter.com/download/iphone\" rel=\"nofollow\">Twitter for iPhone</a>   \n",
       "\n",
       "                     in_reply_to_status_id  in_reply_to_status_id_str  ...  \\\n",
       "id                                                                     ...   \n",
       "1357991946082418690                    NaN                        NaN  ...   \n",
       "1357973565413367808           1.357973e+18               1.357973e+18  ...   \n",
       "1357972904663687173           1.357835e+18               1.357835e+18  ...   \n",
       "1357970517165182979                    NaN                        NaN  ...   \n",
       "1357964347813687296           1.357964e+18               1.357964e+18  ...   \n",
       "\n",
       "                     favorite_count  favorited retweeted possibly_sensitive  \\\n",
       "id                                                                            \n",
       "1357991946082418690          352096      False     False                0.0   \n",
       "1357973565413367808            2155      False     False                NaN   \n",
       "1357972904663687173            5373      False     False                NaN   \n",
       "1357970517165182979           62717      False     False                0.0   \n",
       "1357964347813687296            5726      False     False                NaN   \n",
       "\n",
       "                     lang  retweeted_status  quoted_status_id  \\\n",
       "id                                                              \n",
       "1357991946082418690    en               NaN               NaN   \n",
       "1357973565413367808    en               NaN               NaN   \n",
       "1357972904663687173    en               NaN               NaN   \n",
       "1357970517165182979    en               NaN               NaN   \n",
       "1357964347813687296    en               NaN               NaN   \n",
       "\n",
       "                     quoted_status_id_str  quoted_status_permalink  \\\n",
       "id                                                                   \n",
       "1357991946082418690                   NaN                      NaN   \n",
       "1357973565413367808                   NaN                      NaN   \n",
       "1357972904663687173                   NaN                      NaN   \n",
       "1357970517165182979                   NaN                      NaN   \n",
       "1357964347813687296                   NaN                      NaN   \n",
       "\n",
       "                     quoted_status  \n",
       "id                                  \n",
       "1357991946082418690            NaN  \n",
       "1357973565413367808            NaN  \n",
       "1357972904663687173            NaN  \n",
       "1357970517165182979            NaN  \n",
       "1357964347813687296            NaN  \n",
       "\n",
       "[5 rows x 30 columns]"
      ]
     },
     "execution_count": 21,
     "metadata": {},
     "output_type": "execute_result"
    }
   ],
   "source": [
    "# just run this cell\n",
    "tweets[\"elonmusk\"].head()"
   ]
  },
  {
   "cell_type": "markdown",
   "metadata": {
    "deletable": false,
    "editable": false
   },
   "source": [
    "<!-- BEGIN QUESTION -->\n",
    "\n",
    "---\n",
    "## Question 1d\n",
    "There are many ways we could choose to read tweets. Why might someone be interested in doing data analysis on tweets? Name a kind of person or institution which might be interested in this kind of analysis. Then, give two reasons why a data analysis of tweets might be interesting or useful for them. Answer in 2-3 sentences.\n",
    "\n",
    "<!--\n",
    "BEGIN QUESTION\n",
    "name: q1d\n",
    "points: 1\n",
    "manual: true\n",
    "-->"
   ]
  },
  {
   "attachments": {},
   "cell_type": "markdown",
   "metadata": {},
   "source": [
    "一方面，广告投放公司对用户行为感兴趣，通过分析用户行为，来有针对性的投放广告，可以提高广告点击率；另一方面，Twitter公司对用户行为感兴趣，一方面通过分析用户行为，可以给该用户推荐其感兴趣的用户，进而提高TWitter的活跃度，另一方面分析推文数据，可以判别用户是否发表了违反国家权益的内容。"
   ]
  },
  {
   "cell_type": "markdown",
   "metadata": {
    "nbgrader": {
     "grade": false,
     "grade_id": "q3b",
     "locked": true,
     "schema_version": 2,
     "solution": false
    }
   },
   "source": [
    "<!-- END QUESTION -->\n",
    "\n",
    "\n",
    "\n",
    "<br/><br/><br/>\n",
    "<br/><br/><br/>\n",
    "<hr style=\"border: 5px solid #003262;\" />\n",
    "<hr style=\"border: 1px solid #fdb515;\" />\n",
    "\n",
    "\n",
    "## Question 2:  Source Analysis\n",
    "\n",
    "\n",
    "In some cases, the Twitter feed of a public figure may be partially managed by a public relations firm. In these cases, the device used to post the tweet may help reveal whether it was the individual (e.g., from an iPhone) or a public relations firm (e.g., TweetDeck).  The tweets we have collected contain the source information but it is formatted strangely :("
   ]
  },
  {
   "cell_type": "code",
   "execution_count": 24,
   "metadata": {},
   "outputs": [
    {
     "data": {
      "text/html": [
       "<div>\n",
       "<style scoped>\n",
       "    .dataframe tbody tr th:only-of-type {\n",
       "        vertical-align: middle;\n",
       "    }\n",
       "\n",
       "    .dataframe tbody tr th {\n",
       "        vertical-align: top;\n",
       "    }\n",
       "\n",
       "    .dataframe thead th {\n",
       "        text-align: right;\n",
       "    }\n",
       "</style>\n",
       "<table border=\"1\" class=\"dataframe\">\n",
       "  <thead>\n",
       "    <tr style=\"text-align: right;\">\n",
       "      <th></th>\n",
       "      <th>source</th>\n",
       "    </tr>\n",
       "    <tr>\n",
       "      <th>id</th>\n",
       "      <th></th>\n",
       "    </tr>\n",
       "  </thead>\n",
       "  <tbody>\n",
       "    <tr>\n",
       "      <th>1358137564587319299</th>\n",
       "      <td>&lt;a href=\"http://twitter.com/download/iphone\" rel=\"nofollow\"&gt;Twitter for iPhone&lt;/a&gt;</td>\n",
       "    </tr>\n",
       "    <tr>\n",
       "      <th>1357379984399212545</th>\n",
       "      <td>&lt;a href=\"http://twitter.com/download/iphone\" rel=\"nofollow\"&gt;Twitter for iPhone&lt;/a&gt;</td>\n",
       "    </tr>\n",
       "    <tr>\n",
       "      <th>1356733030962987008</th>\n",
       "      <td>&lt;a href=\"http://twitter.com/download/iphone\" rel=\"nofollow\"&gt;Twitter for iPhone&lt;/a&gt;</td>\n",
       "    </tr>\n",
       "    <tr>\n",
       "      <th>1355924395064233986</th>\n",
       "      <td>&lt;a href=\"http://twitter.com/download/iphone\" rel=\"nofollow\"&gt;Twitter for iPhone&lt;/a&gt;</td>\n",
       "    </tr>\n",
       "    <tr>\n",
       "      <th>1355599316300292097</th>\n",
       "      <td>&lt;a href=\"http://twitter.com/download/iphone\" rel=\"nofollow\"&gt;Twitter for iPhone&lt;/a&gt;</td>\n",
       "    </tr>\n",
       "    <tr>\n",
       "      <th>...</th>\n",
       "      <td>...</td>\n",
       "    </tr>\n",
       "    <tr>\n",
       "      <th>32514882561638401</th>\n",
       "      <td>&lt;a href=\"http://www.whosay.com\" rel=\"nofollow\"&gt;WhoSay&lt;/a&gt;</td>\n",
       "    </tr>\n",
       "    <tr>\n",
       "      <th>32513604662071296</th>\n",
       "      <td>&lt;a href=\"http://www.whosay.com\" rel=\"nofollow\"&gt;WhoSay&lt;/a&gt;</td>\n",
       "    </tr>\n",
       "    <tr>\n",
       "      <th>32511823722840064</th>\n",
       "      <td>&lt;a href=\"http://www.whosay.com\" rel=\"nofollow\"&gt;WhoSay&lt;/a&gt;</td>\n",
       "    </tr>\n",
       "    <tr>\n",
       "      <th>32510294081146881</th>\n",
       "      <td>&lt;a href=\"http://www.whosay.com\" rel=\"nofollow\"&gt;WhoSay&lt;/a&gt;</td>\n",
       "    </tr>\n",
       "    <tr>\n",
       "      <th>32508748819857410</th>\n",
       "      <td>&lt;a href=\"http://www.whosay.com\" rel=\"nofollow\"&gt;WhoSay&lt;/a&gt;</td>\n",
       "    </tr>\n",
       "  </tbody>\n",
       "</table>\n",
       "<p>3198 rows × 1 columns</p>\n",
       "</div>"
      ],
      "text/plain": [
       "                                                                                                 source\n",
       "id                                                                                                     \n",
       "1358137564587319299  <a href=\"http://twitter.com/download/iphone\" rel=\"nofollow\">Twitter for iPhone</a>\n",
       "1357379984399212545  <a href=\"http://twitter.com/download/iphone\" rel=\"nofollow\">Twitter for iPhone</a>\n",
       "1356733030962987008  <a href=\"http://twitter.com/download/iphone\" rel=\"nofollow\">Twitter for iPhone</a>\n",
       "1355924395064233986  <a href=\"http://twitter.com/download/iphone\" rel=\"nofollow\">Twitter for iPhone</a>\n",
       "1355599316300292097  <a href=\"http://twitter.com/download/iphone\" rel=\"nofollow\">Twitter for iPhone</a>\n",
       "...                                                                                                 ...\n",
       "32514882561638401                             <a href=\"http://www.whosay.com\" rel=\"nofollow\">WhoSay</a>\n",
       "32513604662071296                             <a href=\"http://www.whosay.com\" rel=\"nofollow\">WhoSay</a>\n",
       "32511823722840064                             <a href=\"http://www.whosay.com\" rel=\"nofollow\">WhoSay</a>\n",
       "32510294081146881                             <a href=\"http://www.whosay.com\" rel=\"nofollow\">WhoSay</a>\n",
       "32508748819857410                             <a href=\"http://www.whosay.com\" rel=\"nofollow\">WhoSay</a>\n",
       "\n",
       "[3198 rows x 1 columns]"
      ]
     },
     "execution_count": 24,
     "metadata": {},
     "output_type": "execute_result"
    }
   ],
   "source": [
    "# just run this cell\n",
    "tweets[\"Cristiano\"][[\"source\"]]"
   ]
  },
  {
   "cell_type": "markdown",
   "metadata": {},
   "source": [
    "In this question we will use a regular expression to convert this messy HTML snippet into something more readable.  For example: `<a href=\"http://twitter.com/download/iphone\" rel=\"nofollow\">Twitter for iPhone</a>` should be `Twitter for iPhone`. \n"
   ]
  },
  {
   "cell_type": "markdown",
   "metadata": {
    "deletable": false,
    "editable": false,
    "nbgrader": {
     "grade": false,
     "grade_id": "q4b",
     "locked": true,
     "schema_version": 2,
     "solution": false
    }
   },
   "source": [
    "--- \n",
    "### Question 2a\n",
    "\n",
    "We will first use the Python `re` library to cleanup the above test string.  In the cell below, write a regular expression that will match the **HTML tag** and assign it to the variable `q2a_pattern`. We then use the `re.sub` function to substitute anything that matches the pattern with an empty string `\"\"`.\n",
    "\n",
    "An HTML tag is defined as a `<` character followed by zero or more non-`>` characters, followed by a `>` character. That is `<a>` and `</a>` are both considered _separate_ HTML tags.\n",
    "\n",
    "<!--\n",
    "BEGIN QUESTION\n",
    "name: q2a\n",
    "points: 2\n",
    "-->"
   ]
  },
  {
   "cell_type": "code",
   "execution_count": 26,
   "metadata": {},
   "outputs": [
    {
     "data": {
      "text/plain": [
       "'Twitter for iPhone'"
      ]
     },
     "execution_count": 26,
     "metadata": {},
     "output_type": "execute_result"
    }
   ],
   "source": [
    "q2a_pattern = r\"<[^>]+>\"\n",
    "test_str = '<a href=\"http://twitter.com/download/iphone\" rel=\"nofollow\">Twitter for iPhone</a>'\n",
    "re.sub(q2a_pattern, \"\", test_str) # 用于在字符串中查找和替换匹配的文本。把匹配到的替换为了\"\""
   ]
  },
  {
   "cell_type": "code",
   "execution_count": 27,
   "metadata": {
    "deletable": false,
    "editable": false
   },
   "outputs": [
    {
     "data": {
      "text/html": [
       "<p><strong><pre style='display: inline;'>q2a</pre></strong> passed! 🙌</p>"
      ],
      "text/plain": [
       "q2a results: All test cases passed!"
      ]
     },
     "execution_count": 27,
     "metadata": {},
     "output_type": "execute_result"
    }
   ],
   "source": [
    "grader.check(\"q2a\")"
   ]
  },
  {
   "cell_type": "markdown",
   "metadata": {
    "deletable": false,
    "editable": false,
    "nbgrader": {
     "grade": false,
     "grade_id": "q4b",
     "locked": true,
     "schema_version": 2,
     "solution": false
    }
   },
   "source": [
    "--- \n",
    "### Question 2b\n",
    "\n",
    "Rather than writing a regular expression to detect and remove the HTML tags we could instead write a regular expression to **capture** the device name between the angle brackets.  Here we will use [**capturing groups**](https://docs.python.org/3/howto/regex.html#grouping) by placing parenthesis around the part of the regular expression we want to return.  For example, to capture the `21` in the string `08/21/83` we could use the pattern `r\"08/(..)/83\"`.  \n",
    "\n",
    "\n",
    "**Hint:** The output of the following cell should be `['Twitter for iPhone']`.\n",
    "\n",
    "<!--\n",
    "BEGIN QUESTION\n",
    "name: q2b\n",
    "points: 2\n",
    "-->"
   ]
  },
  {
   "cell_type": "code",
   "execution_count": 28,
   "metadata": {},
   "outputs": [
    {
     "data": {
      "text/plain": [
       "['Twitter for iPhone']"
      ]
     },
     "execution_count": 28,
     "metadata": {},
     "output_type": "execute_result"
    }
   ],
   "source": [
    "q2b_pattern = r\">(.*)<\"\n",
    "test_str = '<a href=\"http://twitter.com/download/iphone\" rel=\"nofollow\">Twitter for iPhone</a>'\n",
    "re.findall(q2b_pattern, test_str)"
   ]
  },
  {
   "cell_type": "code",
   "execution_count": 29,
   "metadata": {
    "deletable": false,
    "editable": false
   },
   "outputs": [
    {
     "data": {
      "text/html": [
       "<p><strong><pre style='display: inline;'>q2b</pre></strong> passed! ✨</p>"
      ],
      "text/plain": [
       "q2b results: All test cases passed!"
      ]
     },
     "execution_count": 29,
     "metadata": {},
     "output_type": "execute_result"
    }
   ],
   "source": [
    "grader.check(\"q2b\")"
   ]
  },
  {
   "cell_type": "markdown",
   "metadata": {
    "deletable": false,
    "editable": false,
    "nbgrader": {
     "grade": false,
     "grade_id": "q4b",
     "locked": true,
     "schema_version": 2,
     "solution": false
    }
   },
   "source": [
    "---\n",
    "### Question 2c\n",
    "\n",
    "Using either of the two regular expressions you just created and [`Series.str.replace`](https://pandas.pydata.org/docs/reference/api/pandas.Series.str.replace.html) or [`Series.str.extract`](https://pandas.pydata.org/docs/reference/api/pandas.Series.str.extract.html), add a new column called `\"device\"` to **all** of the DataFrames in `tweets` containing just the text describing the device (without the HTML tags).\n",
    "\n",
    "<!--\n",
    "BEGIN QUESTION\n",
    "name: q2c\n",
    "points: 2\n",
    "-->"
   ]
  },
  {
   "cell_type": "code",
   "execution_count": 32,
   "metadata": {},
   "outputs": [
    {
     "data": {
      "text/plain": [
       "dict_keys(['AOC', 'Cristiano', 'elonmusk'])"
      ]
     },
     "execution_count": 32,
     "metadata": {},
     "output_type": "execute_result"
    }
   ],
   "source": [
    "tweets.keys()"
   ]
  },
  {
   "cell_type": "code",
   "execution_count": 37,
   "metadata": {},
   "outputs": [],
   "source": [
    "for df in tweets.values():\n",
    "    df[\"device\"] = df[\"source\"].str.extract(r\">(.*)<\")\n",
    "    # display(df.head(2))"
   ]
  },
  {
   "cell_type": "code",
   "execution_count": 38,
   "metadata": {
    "deletable": false,
    "editable": false
   },
   "outputs": [
    {
     "data": {
      "text/html": [
       "<p><strong><pre style='display: inline;'>q2c</pre></strong> passed! 🌟</p>"
      ],
      "text/plain": [
       "q2c results: All test cases passed!"
      ]
     },
     "execution_count": 38,
     "metadata": {},
     "output_type": "execute_result"
    }
   ],
   "source": [
    "grader.check(\"q2c\")"
   ]
  },
  {
   "cell_type": "markdown",
   "metadata": {
    "deletable": false,
    "editable": false,
    "nbgrader": {
     "grade": false,
     "grade_id": "q4b",
     "locked": true,
     "schema_version": 2,
     "solution": false
    }
   },
   "source": [
    "---\n",
    "### Question 2d\n",
    "\n",
    "To examine the most frequently used devices by each individual, implement the `most_freq` function that takes in a `Series` and returns a new `Series` containing the `k` most commonly occuring entries in the first series, where the values are the counts of the entries and the indices are the entries themselves.\n",
    "\n",
    "For example: \n",
    "```python\n",
    "most_freq(pd.Series([\"A\", \"B\", \"A\", \"C\", \"B\", \"A\"]), k=2)\n",
    "```\n",
    "would return:\n",
    "```\n",
    "A    3\n",
    "B    2\n",
    "dtype: int64\n",
    "```\n",
    "\n",
    "\n",
    "\n",
    "\n",
    "**Hint** Consider using `value_counts`, `sort_values`, `head`, and/or `nlargest` (for the last one, read the documentation [here](https://pandas.pydata.org/pandas-docs/stable/reference/api/pandas.Series.nlargest.html?highlight=nlargest)).\n",
    " Think of what might be the most efficient implementation.\n",
    "<!--\n",
    "BEGIN QUESTION\n",
    "name: q2d\n",
    "points: 2\n",
    "-->"
   ]
  },
  {
   "cell_type": "code",
   "execution_count": 50,
   "metadata": {},
   "outputs": [
    {
     "data": {
      "text/plain": [
       "Twitter for iPhone     1183\n",
       "Twitter Web Client      959\n",
       "WhoSay                  453\n",
       "MobioINsider.com        144\n",
       "Twitter for Android     108\n",
       "Name: device, dtype: int64"
      ]
     },
     "execution_count": 50,
     "metadata": {},
     "output_type": "execute_result"
    }
   ],
   "source": [
    "def most_freq(series, k = 5):\n",
    "    return (series\n",
    "                .value_counts()\n",
    "                .sort_values(ascending=False)\n",
    "                .head(k))\n",
    "\n",
    "most_freq(tweets[\"Cristiano\"]['device'])"
   ]
  },
  {
   "cell_type": "code",
   "execution_count": 51,
   "metadata": {
    "deletable": false,
    "editable": false
   },
   "outputs": [
    {
     "data": {
      "text/html": [
       "<p><strong><pre style='display: inline;'>q2d</pre></strong> passed! ✨</p>"
      ],
      "text/plain": [
       "q2d results: All test cases passed!"
      ]
     },
     "execution_count": 51,
     "metadata": {},
     "output_type": "execute_result"
    }
   ],
   "source": [
    "grader.check(\"q2d\")"
   ]
  },
  {
   "cell_type": "markdown",
   "metadata": {
    "nbgrader": {
     "grade": false,
     "grade_id": "q4b",
     "locked": true,
     "schema_version": 2,
     "solution": false
    }
   },
   "source": [
    "Run the following two cells to compute a table and plot describing the top 5 most commonly used devices for each user."
   ]
  },
  {
   "cell_type": "code",
   "execution_count": 52,
   "metadata": {},
   "outputs": [
    {
     "data": {
      "text/html": [
       "<div>\n",
       "<style scoped>\n",
       "    .dataframe tbody tr th:only-of-type {\n",
       "        vertical-align: middle;\n",
       "    }\n",
       "\n",
       "    .dataframe tbody tr th {\n",
       "        vertical-align: top;\n",
       "    }\n",
       "\n",
       "    .dataframe thead th {\n",
       "        text-align: right;\n",
       "    }\n",
       "</style>\n",
       "<table border=\"1\" class=\"dataframe\">\n",
       "  <thead>\n",
       "    <tr style=\"text-align: right;\">\n",
       "      <th></th>\n",
       "      <th>Twitter for iPhone</th>\n",
       "      <th>Twitter Media Studio</th>\n",
       "      <th>Twitter Web Client</th>\n",
       "      <th>WhoSay</th>\n",
       "      <th>MobioINsider.com</th>\n",
       "      <th>Twitter for Android</th>\n",
       "      <th>Twitter Web App</th>\n",
       "    </tr>\n",
       "  </thead>\n",
       "  <tbody>\n",
       "    <tr>\n",
       "      <th>AOC</th>\n",
       "      <td>3245.0</td>\n",
       "      <td>2.0</td>\n",
       "      <td>0.0</td>\n",
       "      <td>0.0</td>\n",
       "      <td>0.0</td>\n",
       "      <td>0.0</td>\n",
       "      <td>0.0</td>\n",
       "    </tr>\n",
       "    <tr>\n",
       "      <th>Cristiano</th>\n",
       "      <td>1183.0</td>\n",
       "      <td>0.0</td>\n",
       "      <td>959.0</td>\n",
       "      <td>453.0</td>\n",
       "      <td>144.0</td>\n",
       "      <td>108.0</td>\n",
       "      <td>0.0</td>\n",
       "    </tr>\n",
       "    <tr>\n",
       "      <th>elonmusk</th>\n",
       "      <td>3202.0</td>\n",
       "      <td>0.0</td>\n",
       "      <td>0.0</td>\n",
       "      <td>0.0</td>\n",
       "      <td>0.0</td>\n",
       "      <td>0.0</td>\n",
       "      <td>37.0</td>\n",
       "    </tr>\n",
       "  </tbody>\n",
       "</table>\n",
       "</div>"
      ],
      "text/plain": [
       "           Twitter for iPhone  Twitter Media Studio  Twitter Web Client  \\\n",
       "AOC                    3245.0                   2.0                 0.0   \n",
       "Cristiano              1183.0                   0.0               959.0   \n",
       "elonmusk               3202.0                   0.0                 0.0   \n",
       "\n",
       "           WhoSay  MobioINsider.com  Twitter for Android  Twitter Web App  \n",
       "AOC           0.0               0.0                  0.0              0.0  \n",
       "Cristiano   453.0             144.0                108.0              0.0  \n",
       "elonmusk      0.0               0.0                  0.0             37.0  "
      ]
     },
     "execution_count": 52,
     "metadata": {},
     "output_type": "execute_result"
    }
   ],
   "source": [
    "# just run this cell\n",
    "device_counts = pd.DataFrame(\n",
    "    [most_freq(tweets[name]['device']).rename(name)\n",
    "     for name in tweets]\n",
    ").fillna(0)\n",
    "device_counts"
   ]
  },
  {
   "cell_type": "code",
   "execution_count": 53,
   "metadata": {},
   "outputs": [
    {
     "data": {
      "image/png": "[encoded data removed]",
      "text/plain": [
       "<Figure size 1500x500 with 1 Axes>"
      ]
     },
     "metadata": {},
     "output_type": "display_data"
    }
   ],
   "source": [
    "# just run this cell\n",
    "make_bar_plot(device_counts.T, title=\"Count of Tweets by Source\",\n",
    "               xlabel=\"Source\", ylabel=\"Count\")\n",
    "plt.xticks(rotation=45)\n",
    "plt.legend(title=\"Handle\");"
   ]
  },
  {
   "cell_type": "markdown",
   "metadata": {
    "deletable": false,
    "editable": false
   },
   "source": [
    "<!-- BEGIN QUESTION -->\n",
    "\n",
    "---\n",
    "### Question 2e\n",
    "<!--\n",
    "BEGIN QUESTION\n",
    "name: q2e\n",
    "points: 2\n",
    "manual: true\n",
    "-->\n",
    "\n",
    "What might we want to investigate further?  Write a few sentences below."
   ]
  },
  {
   "attachments": {},
   "cell_type": "markdown",
   "metadata": {},
   "source": [
    "AOC 和马斯克的推文都来自 iPhone，这没有什么问题。\n",
    "\n",
    "但是克里斯蒂亚诺的推文来自多个设备，因此可以调查一下克里斯蒂亚诺的 Twitter 账户何时使用 iPhone 发推文，以及何时使用其他设备发推文，观察不同设备的时间分布"
   ]
  },
  {
   "cell_type": "markdown",
   "metadata": {
    "deletable": false,
    "editable": false
   },
   "source": [
    "<!-- END QUESTION -->\n",
    "\n",
    "<!-- BEGIN QUESTION -->\n",
    "\n",
    "---\n",
    "### Question 2f\n",
    "\n",
    "We just looked at the top 5 most commonly used devices for each user. However, we used the number of tweets as a measure, when it might be better to compare these distributions by comparing _proportions_ of tweets. Why might proportions of tweets be better measures than numbers of tweets?\n",
    "\n",
    "<!--\n",
    "BEGIN QUESTION\n",
    "name: q2f\n",
    "points: 1\n",
    "manual: true\n",
    "\n",
    "-->"
   ]
  },
  {
   "attachments": {},
   "cell_type": "markdown",
   "metadata": {},
   "source": [
    "比例的量纲为100，而推文是数量容易受到不同偏好的影响。"
   ]
  },
  {
   "cell_type": "markdown",
   "metadata": {
    "nbgrader": {
     "grade": false,
     "grade_id": "q4a",
     "locked": true,
     "schema_version": 2,
     "solution": false
    }
   },
   "source": [
    "<!-- END QUESTION -->\n",
    "\n",
    "\n",
    "\n",
    "<br/><br/><br/>\n",
    "<br/><br/><br/>\n",
    "<hr style=\"border: 5px solid #003262;\" />\n",
    "<hr style=\"border: 1px solid #fdb515;\" />\n",
    "\n",
    "\n",
    "## Question 3: When?\n",
    "\n",
    "Now that we've explored the sources of each of the tweets, we will perform some time series analysis. A look into the temporal aspect of the data could reveal insights about how a user spends their day, when they eat and sleep, etc. In this question, we will focus on the time at which each tweet was posted.\n"
   ]
  },
  {
   "cell_type": "markdown",
   "metadata": {
    "deletable": false,
    "editable": false,
    "nbgrader": {
     "grade": false,
     "grade_id": "need-to-do",
     "locked": true,
     "schema_version": 2,
     "solution": false
    }
   },
   "source": [
    "---\n",
    "### Question 3a\n",
    "\n",
    "Complete the following function `add_hour` that takes in a tweets dataframe `df`, and two column names `time_col` and `result_col`. Your function should use the timestamps in the `time_col` column to store in a new column `result_col` the computed  hour of the day as floating point number according to the formula:\n",
    "\n",
    "$$\n",
    "\\text{hour} + \\frac{\\text{minute}}{60} + \\frac{\\text{second}}{60^{2}}\n",
    "$$\n",
    "\n",
    "**Note:** The below code calls your `add_hour` function and updates each tweets dataframe by using the `created_at` timestamp column to calculate and store the `hour` column.\n",
    "\n",
    "**Hint:** See the following link for an example of working with timestamps using the [`dt` accessors](https://pandas.pydata.org/pandas-docs/stable/user_guide/basics.html#dt-accessor). \n",
    "\n",
    "<!--\n",
    "BEGIN QUESTION\n",
    "name: q3a\n",
    "points: 1\n",
    "-->"
   ]
  },
  {
   "cell_type": "code",
   "execution_count": 70,
   "metadata": {
    "nbgrader": {
     "grade": false,
     "grade_id": "q4b-answer",
     "locked": false,
     "schema_version": 2,
     "solution": true
    },
    "tags": [
     "student"
    ]
   },
   "outputs": [
    {
     "data": {
      "text/plain": [
       "id\n",
       "1358149122264563712    20.366667\n",
       "1358147616400408576    20.266667\n",
       "1358145332316667909    20.116667\n",
       "1358145218407759875    20.116667\n",
       "1358144207333036040    20.050000\n",
       "Name: hour, dtype: float64"
      ]
     },
     "execution_count": 70,
     "metadata": {},
     "output_type": "execute_result"
    }
   ],
   "source": [
    "def add_hour(df, time_col, result_col):\n",
    "    df[result_col] = (df[time_col].dt.hour + \n",
    "                        df[time_col].dt.minute / 60 + \n",
    "                        df[time_col].dt.second // 3600) \n",
    "    return df\n",
    "\n",
    "# do not modify the below code\n",
    "tweets = {handle: add_hour(df, \"created_at\", \"hour\") for handle, df in tweets.items()}\n",
    "tweets[\"AOC\"][\"hour\"].head()"
   ]
  },
  {
   "cell_type": "code",
   "execution_count": 71,
   "metadata": {
    "deletable": false,
    "editable": false
   },
   "outputs": [
    {
     "data": {
      "text/html": [
       "<p><strong><pre style='display: inline;'>q3a</pre></strong> passed! 💯</p>"
      ],
      "text/plain": [
       "q3a results: All test cases passed!"
      ]
     },
     "execution_count": 71,
     "metadata": {},
     "output_type": "execute_result"
    }
   ],
   "source": [
    "grader.check(\"q3a\")"
   ]
  },
  {
   "cell_type": "markdown",
   "metadata": {
    "nbgrader": {
     "grade": false,
     "grade_id": "q4c",
     "locked": true,
     "schema_version": 2,
     "solution": false
    }
   },
   "source": [
    "With our new `hour` column, let's take a look at the distribution of tweets for each user by time of day. The following cell helps create a density plot on the number of tweets based on the hour they are posted. \n",
    "\n",
    "The function `bin_df` takes in a dataframe, an array of bins, and a column name; it bins the the values in the specified column, returning a dataframe with the bin lower bound and the number of elements in the bin. This function uses [`pd.cut`](https://pandas.pydata.org/pandas-docs/stable/reference/api/pandas.cut.html), a pandas [utility](https://pandas.pydata.org/pandas-docs/stable/reference/api/pandas.cut.html) for binning numerical values that you may find helpful in the distant future.\n",
    "\n",
    "Run the cell and answer the following question about the plot."
   ]
  },
  {
   "cell_type": "code",
   "execution_count": 72,
   "metadata": {},
   "outputs": [
    {
     "data": {
      "image/png": "[encoded data removed]",
      "text/plain": [
       "<Figure size 1000x600 with 1 Axes>"
      ]
     },
     "metadata": {},
     "output_type": "display_data"
    }
   ],
   "source": [
    "# just run this cell\n",
    "def bin_df(df, bins, colname):\n",
    "    binned = pd.cut(df[colname], bins).value_counts().sort_index()\n",
    "    return pd.DataFrame({\"counts\": binned, \"bin\": bins[:-1]})\n",
    "\n",
    "hour_bins = np.arange(0, 24.5, .5)\n",
    "binned_hours = {handle: bin_df(df, hour_bins, \"hour\") for handle, df in tweets.items()}\n",
    "\n",
    "make_line_plot(binned_hours, \"bin\", \"counts\", title=\"Distribution of Tweets by Time of Day\",\n",
    "               xlabel=\"Hour\", ylabel=\"Number of Tweets\")"
   ]
  },
  {
   "cell_type": "markdown",
   "metadata": {
    "deletable": false,
    "editable": false
   },
   "source": [
    "<!-- BEGIN QUESTION -->\n",
    "\n",
    "---\n",
    "### Question 3b\n",
    "<!--\n",
    "BEGIN QUESTION\n",
    "name: q3b\n",
    "points: 1\n",
    "manual: true\n",
    "-->\n",
    "Compare Cristiano's distribution with those of AOC and Elon Musk. In particular, compare the distributions before and after Hour 6. What differences did you notice? What might be a possible cause of that? Do the data plotted above seem reasonable?"
   ]
  },
  {
   "attachments": {},
   "cell_type": "markdown",
   "metadata": {},
   "source": [
    "前六小时 Cristiano 几乎不发推文。\n",
    "可能是因为不在同一个时区，笔记AOC 和ElonMusk在 8-12 这几个时间段也几乎不发推文。\n",
    "数据是合理的"
   ]
  },
  {
   "cell_type": "markdown",
   "metadata": {
    "deletable": false,
    "editable": false
   },
   "source": [
    "<!-- END QUESTION -->\n",
    "\n",
    "---\n",
    "### Question 3c\n",
    "\n",
    "To account for different locations of each user in our analysis, we will next adjust the `created_at` timestamp for each tweet to the respective timezone of each user. Complete the following function `convert_timezone` that takes in a tweets dataframe `df` and a timezone `new_tz` and adds a new column `converted_time` that has the adjusted `created_at` timestamp for each tweet. The timezone for each user is provided in `timezones`.\n",
    "\n",
    "**Hint:** Again, please see the following link for an example of working with [`dt` accessors](https://pandas.pydata.org/pandas-docs/stable/user_guide/basics.html#dt-accessor).\n",
    "\n",
    "<!--\n",
    "BEGIN QUESTION\n",
    "name: q3c\n",
    "points: 1\n",
    "-->"
   ]
  },
  {
   "cell_type": "code",
   "execution_count": 75,
   "metadata": {},
   "outputs": [
    {
     "data": {
      "text/plain": [
       "0   2013-01-01 09:10:12\n",
       "1   2013-01-02 09:10:12\n",
       "2   2013-01-03 09:10:12\n",
       "3   2013-01-04 09:10:12\n",
       "dtype: datetime64[ns]"
      ]
     },
     "metadata": {},
     "output_type": "display_data"
    }
   ],
   "source": [
    "s = pd.Series(pd.date_range(\"20130101 09:10:12\", periods=4))\n",
    "display(s)"
   ]
  },
  {
   "cell_type": "code",
   "execution_count": 76,
   "metadata": {},
   "outputs": [
    {
     "data": {
      "text/plain": [
       "0   2013-01-01 09:10:12-05:00\n",
       "1   2013-01-02 09:10:12-05:00\n",
       "2   2013-01-03 09:10:12-05:00\n",
       "3   2013-01-04 09:10:12-05:00\n",
       "dtype: datetime64[ns, US/Eastern]"
      ]
     },
     "execution_count": 76,
     "metadata": {},
     "output_type": "execute_result"
    }
   ],
   "source": [
    "s.dt.tz_localize(\"US/Eastern\")"
   ]
  },
  {
   "cell_type": "code",
   "execution_count": 77,
   "metadata": {
    "nbgrader": {
     "grade": false,
     "grade_id": "convert-to-est",
     "locked": true,
     "schema_version": 2,
     "solution": false
    }
   },
   "outputs": [],
   "source": [
    "def convert_timezone(df, new_tz):\n",
    "    df[\"converted_time\"] = df[\"created_at\"].dt.tz_convert(new_tz)\n",
    "    return df\n",
    "\n",
    "timezones = {\"AOC\": \"EST\", \"Cristiano\": \"Europe/Lisbon\", \"elonmusk\": \"America/Los_Angeles\"}\n",
    "\n",
    "tweets = {handle: convert_timezone(df, tz) for (handle, df), tz in zip(tweets.items(), timezones.values())}"
   ]
  },
  {
   "cell_type": "code",
   "execution_count": 78,
   "metadata": {
    "deletable": false,
    "editable": false
   },
   "outputs": [
    {
     "data": {
      "text/html": [
       "<p><strong><pre style='display: inline;'>q3c</pre></strong> passed! 🎉</p>"
      ],
      "text/plain": [
       "q3c results: All test cases passed!"
      ]
     },
     "execution_count": 78,
     "metadata": {},
     "output_type": "execute_result"
    }
   ],
   "source": [
    "grader.check(\"q3c\")"
   ]
  },
  {
   "cell_type": "markdown",
   "metadata": {
    "nbgrader": {
     "grade": false,
     "grade_id": "q4c",
     "locked": true,
     "schema_version": 2,
     "solution": false
    }
   },
   "source": [
    "With our adjusted timestamps for each user based on their timezone, let's take a look again at the distribution of tweets by time of day."
   ]
  },
  {
   "cell_type": "code",
   "execution_count": 79,
   "metadata": {},
   "outputs": [
    {
     "data": {
      "image/png": "[encoded data removed]",
      "text/plain": [
       "<Figure size 1000x600 with 1 Axes>"
      ]
     },
     "metadata": {},
     "output_type": "display_data"
    }
   ],
   "source": [
    "# just run this cell\n",
    "tweets = {handle: add_hour(df, \"converted_time\", \"converted_hour\") for handle, df in tweets.items()}\n",
    "binned_hours = {handle: bin_df(df, hour_bins, \"converted_hour\") for handle, df in tweets.items()}\n",
    "\n",
    "make_line_plot(binned_hours, \"bin\", \"counts\", title=\"Distribution of Tweets by Time of Day (timezone-corrected)\",\n",
    "               xlabel=\"Hour\", ylabel=\"Number of Tweets\")"
   ]
  },
  {
   "cell_type": "markdown",
   "metadata": {
    "nbgrader": {
     "grade": false,
     "grade_id": "q4a",
     "locked": true,
     "schema_version": 2,
     "solution": false
    }
   },
   "source": [
    "<br/><br/><br/>\n",
    "<br/><br/><br/>\n",
    "<hr style=\"border: 5px solid #003262;\" />\n",
    "<hr style=\"border: 1px solid #fdb515;\" />\n",
    "\n",
    "\n",
    "## Question 4: Sentiment\n",
    "\n",
    "\n",
    "In the past few questions, we have explored the sources of the tweets and when they are posted. Although on their own, they might not seem particularly intricate, combined with the power of regular expressions, they could actually help us infer a lot about the users. In this section, we will continue building on our past analysis and specifically look at the sentiment of each tweet -- this would lead us to a much more direct and detailed understanding of how the users view certain subjects and people. \n"
   ]
  },
  {
   "cell_type": "markdown",
   "metadata": {
    "nbgrader": {
     "grade": false,
     "grade_id": "q6-header",
     "locked": true,
     "schema_version": 2,
     "solution": false
    }
   },
   "source": [
    "<br/>\n",
    "How do we actually measure the sentiment of each tweet? In our case, we can use the words in the text of a tweet for our calculation! For example, the word \"love\" within the sentence \"I love America!\" has a positive sentiment, whereas the word \"hate\" within the sentence \"I hate taxes!\" has a negative sentiment. In addition, some words have stronger positive / negative sentiment than others: \"I love America.\" is more positive than \"I like America.\"\n",
    "\n",
    "We will use the [VADER (Valence Aware Dictionary and sEntiment Reasoner)](https://github.com/cjhutto/vaderSentiment) lexicon to analyze the sentiment of AOC's tweets. VADER is a lexicon and rule-based sentiment analysis tool that is specifically attuned to sentiments expressed in social media which is great for our usage.\n",
    "\n",
    "The VADER lexicon gives the sentiment of individual words. Run the following cell to show the first few rows of the lexicon:"
   ]
  },
  {
   "cell_type": "code",
   "execution_count": 80,
   "metadata": {
    "nbgrader": {
     "grade": false,
     "grade_id": "head-vader",
     "locked": true,
     "schema_version": 2,
     "solution": false
    }
   },
   "outputs": [
    {
     "name": "stdout",
     "output_type": "stream",
     "text": [
      "$:\t-1.5\t0.80623\t[-1, -1, -1, -1, -3, -1, -3, -1, -2, -1]\n",
      "%)\t-0.4\t1.0198\t[-1, 0, -1, 0, 0, -2, -1, 2, -1, 0]\n",
      "%-)\t-1.5\t1.43178\t[-2, 0, -2, -2, -1, 2, -2, -3, -2, -3]\n",
      "&-:\t-0.4\t1.42829\t[-3, -1, 0, 0, -1, -1, -1, 2, -1, 2]\n",
      "&:\t-0.7\t0.64031\t[0, -1, -1, -1, 1, -1, -1, -1, -1, -1]\n",
      "( '}{' )\t1.6\t0.66332\t[1, 2, 2, 1, 1, 2, 2, 1, 3, 1]\n",
      "(%\t-0.9\t0.9434\t[0, 0, 1, -1, -1, -1, -2, -2, -1, -2]\n",
      "('-:\t2.2\t1.16619\t[4, 1, 4, 3, 1, 2, 3, 1, 2, 1]\n",
      "(':\t2.3\t0.9\t[1, 3, 3, 2, 2, 4, 2, 3, 1, 2]\n",
      "((-:\t2.1\t0.53852\t[2, 2, 2, 1, 2, 3, 2, 2, 3, 2]\n",
      "\n"
     ]
    }
   ],
   "source": [
    "# just run this cell\n",
    "print(''.join(open(\"vader_lexicon.txt\").readlines()[:10]))"
   ]
  },
  {
   "cell_type": "markdown",
   "metadata": {},
   "source": [
    "As you can see, the lexicon contains emojis too! Each row contains a word and the *polarity* of that word, measuring how positive or negative the word is."
   ]
  },
  {
   "cell_type": "markdown",
   "metadata": {
    "nbgrader": {
     "grade": false,
     "grade_id": "q6a-header",
     "locked": true,
     "schema_version": 2,
     "solution": false
    }
   },
   "source": [
    "### VADER Sentiment Analysis\n",
    "\n",
    "The creators of [VADER](https://github.com/cjhutto/vaderSentiment#introduction) describe the tool’s assessment of polarity, or “compound score,” in the following way:\n",
    "\n",
    "“The compound score is computed by summing the valence scores of each word in the lexicon, adjusted according to the rules, and then normalized to be between -1 (most extreme negative) and +1 (most extreme positive). This is the most useful metric if you want a single unidimensional measure of sentiment for a given sentence. Calling it a 'normalized, weighted composite score' is accurate.”\n",
    "\n",
    "As you can see, VADER doesn't \"read\" sentences, but works by parsing sentences into words, assigning a preset generalized score from their testing sets to each word separately. \n",
    "\n",
    "VADER relies on humans to stabilize its scoring. The creators use Amazon Mechanical Turk, a crowdsourcing survey platform, to train its model. Its training data consists of a small corpus of tweets, New York Times editorials and news articles, Rotten Tomatoes reviews, and Amazon product reviews, tokenized using the natural language toolkit (NLTK). Each word in each dataset was reviewed and rated by at least 20 trained individuals who had signed up to work on these tasks through Mechanical Turk. "
   ]
  },
  {
   "cell_type": "markdown",
   "metadata": {
    "deletable": false,
    "editable": false
   },
   "source": [
    "<!-- BEGIN QUESTION -->\n",
    "\n",
    "---\n",
    "### Question 4a\n",
    "Please score the sentiment of one of the following words, using your own personal interpretation. No code is required for this question!\n",
    "\n",
    "- police\n",
    "- order\n",
    "- Democrat\n",
    "- Republican\n",
    "- gun\n",
    "- dog\n",
    "- technology\n",
    "- TikTok\n",
    "- security\n",
    "- face-mask\n",
    "- science\n",
    "- climate change\n",
    "- vaccine\n",
    "\n",
    "What score did you give it and why? Can you think of a situation in which this word would carry the opposite sentiment to the one you’ve just assigned?\n",
    "\n",
    "<!--\n",
    "BEGIN QUESTION\n",
    "name: q4a\n",
    "points: 1\n",
    "manual: true\n",
    "-->"
   ]
  },
  {
   "cell_type": "markdown",
   "metadata": {},
   "source": [
    "_Type your answer here, replacing this text._"
   ]
  },
  {
   "cell_type": "markdown",
   "metadata": {},
   "source": [
    "<!-- END QUESTION -->\n",
    "\n",
    "\n",
    "\n",
    "**Optional (ungraded):** Are there circumstances (e.g. certain kinds of language or data) when you might not want to use VADER? What features of human speech might VADER misrepresent or fail to capture?"
   ]
  },
  {
   "cell_type": "markdown",
   "metadata": {
    "deletable": false,
    "editable": false
   },
   "source": [
    "---\n",
    "### Question 4b\n",
    "\n",
    "Let's first load in the data containing all the sentiments. Read `vader_lexicon.txt` into a dataframe called `sent`. The index of the dataframe should be the words in the lexicon and should be named `token`. `sent` should have one column named `polarity`, storing the polarity of each word.\n",
    "\n",
    "**Hint:** The `pd.read_csv` function may help here. Since the file is tab-separated, be sure to set `sep='\\t'` in your call to `pd.read_csv`.\n",
    "\n",
    "<!--\n",
    "BEGIN QUESTION\n",
    "name: q4b\n",
    "points: 1\n",
    "-->"
   ]
  },
  {
   "cell_type": "code",
   "execution_count": 85,
   "metadata": {},
   "outputs": [
    {
     "data": {
      "text/html": [
       "<div>\n",
       "<style scoped>\n",
       "    .dataframe tbody tr th:only-of-type {\n",
       "        vertical-align: middle;\n",
       "    }\n",
       "\n",
       "    .dataframe tbody tr th {\n",
       "        vertical-align: top;\n",
       "    }\n",
       "\n",
       "    .dataframe thead th {\n",
       "        text-align: right;\n",
       "    }\n",
       "</style>\n",
       "<table border=\"1\" class=\"dataframe\">\n",
       "  <thead>\n",
       "    <tr style=\"text-align: right;\">\n",
       "      <th></th>\n",
       "      <th>polarity</th>\n",
       "    </tr>\n",
       "    <tr>\n",
       "      <th>token</th>\n",
       "      <th></th>\n",
       "    </tr>\n",
       "  </thead>\n",
       "  <tbody>\n",
       "    <tr>\n",
       "      <th>$:</th>\n",
       "      <td>-1.5</td>\n",
       "    </tr>\n",
       "    <tr>\n",
       "      <th>%)</th>\n",
       "      <td>-0.4</td>\n",
       "    </tr>\n",
       "    <tr>\n",
       "      <th>%-)</th>\n",
       "      <td>-1.5</td>\n",
       "    </tr>\n",
       "    <tr>\n",
       "      <th>&amp;-:</th>\n",
       "      <td>-0.4</td>\n",
       "    </tr>\n",
       "    <tr>\n",
       "      <th>&amp;:</th>\n",
       "      <td>-0.7</td>\n",
       "    </tr>\n",
       "  </tbody>\n",
       "</table>\n",
       "</div>"
      ],
      "text/plain": [
       "       polarity\n",
       "token          \n",
       "$:         -1.5\n",
       "%)         -0.4\n",
       "%-)        -1.5\n",
       "&-:        -0.4\n",
       "&:         -0.7"
      ]
     },
     "execution_count": 85,
     "metadata": {},
     "output_type": "execute_result"
    }
   ],
   "source": [
    "sent = pd.read_csv(\"vader_lexicon.txt\", \n",
    "                    sep=\"\\t\", \n",
    "                    header=None, \n",
    "                    usecols = [0,1], \n",
    "                    names = [\"token\",\"polarity\"],\n",
    "                    index_col = \"token\")\n",
    "sent.head()"
   ]
  },
  {
   "cell_type": "code",
   "execution_count": 87,
   "metadata": {
    "deletable": false,
    "editable": false
   },
   "outputs": [
    {
     "data": {
      "text/html": [
       "<p><strong><pre style='display: inline;'>q4b</pre></strong> passed! 🎉</p>"
      ],
      "text/plain": [
       "q4b results: All test cases passed!"
      ]
     },
     "execution_count": 87,
     "metadata": {},
     "output_type": "execute_result"
    }
   ],
   "source": [
    "grader.check(\"q4b\")"
   ]
  },
  {
   "cell_type": "markdown",
   "metadata": {
    "nbgrader": {
     "grade": false,
     "grade_id": "q6b-header",
     "locked": true,
     "schema_version": 2,
     "solution": false
    }
   },
   "source": [
    "---\n",
    "### Question 4c\n",
    "\n",
    "Before further analysis, we will need some more tools that can help us extract the necessary information and clean our data.\n",
    "\n",
    "Complete the following regular expressions that will help us match part of a tweet that we either (i) want to remove or (ii) are interested in learning more about."
   ]
  },
  {
   "cell_type": "markdown",
   "metadata": {
    "deletable": false,
    "editable": false
   },
   "source": [
    "#### Question 4c Part (i)\n",
    "Assign a regular expression to a new variable `punct_re` that captures all of the punctuations within a tweet. We consider punctuation to be any non-word, non-whitespace character.\n",
    "\n",
    "**Note**: A word character is any character that is alphanumeric or an underscore. A whitespace character is any character that is a space, a tab, a new line, or a carriage return.\n",
    "\n",
    "<!--\n",
    "BEGIN QUESTION\n",
    "name: q4ci\n",
    "points: 1\n",
    "-->"
   ]
  },
  {
   "cell_type": "code",
   "execution_count": 117,
   "metadata": {},
   "outputs": [
    {
     "data": {
      "text/plain": [
       "'RT  RepEscobar  Our country has the moral obligation and responsibility to reunite every single family separated at the southern border \\n\\nT '"
      ]
     },
     "execution_count": 117,
     "metadata": {},
     "output_type": "execute_result"
    }
   ],
   "source": [
    "punct_re = r'[^\\w\\s]'\n",
    "\n",
    "re.sub(punct_re, \" \", tweets[\"AOC\"].iloc[0][\"full_text\"])"
   ]
  },
  {
   "cell_type": "code",
   "execution_count": 93,
   "metadata": {
    "deletable": false,
    "editable": false
   },
   "outputs": [
    {
     "data": {
      "text/html": [
       "<p><strong><pre style='display: inline;'>q4ci</pre></strong> passed! 🚀</p>"
      ],
      "text/plain": [
       "q4ci results: All test cases passed!"
      ]
     },
     "execution_count": 93,
     "metadata": {},
     "output_type": "execute_result"
    }
   ],
   "source": [
    "grader.check(\"q4ci\")"
   ]
  },
  {
   "cell_type": "markdown",
   "metadata": {
    "deletable": false,
    "editable": false
   },
   "source": [
    "#### Question 4c Part (ii)\n",
    "Assign a regular expression to a new variable `mentions_re` that matches any mention in a tweet. Your regular expression should use a capturing group to extract the user's username in a mention.\n",
    "\n",
    "**Hint**: a user mention within a tweet always starts with the `@` symbol and is followed by a series of word characters (with no space in between). For more explanations on what a word character is, check out the **Note** section in Part 1.\n",
    "\n",
    "<!--\n",
    "BEGIN QUESTION\n",
    "name: q4cii\n",
    "points: 1\n",
    "-->"
   ]
  },
  {
   "cell_type": "code",
   "execution_count": 94,
   "metadata": {},
   "outputs": [
    {
     "data": {
      "text/plain": [
       "'RT @RepEscobar: Our country has the moral obligation and responsibility to reunite every single family separated at the southern border.\\n\\nT…'"
      ]
     },
     "execution_count": 94,
     "metadata": {},
     "output_type": "execute_result"
    }
   ],
   "source": [
    "tweets[\"AOC\"].iloc[0][\"full_text\"]"
   ]
  },
  {
   "cell_type": "code",
   "execution_count": 96,
   "metadata": {},
   "outputs": [
    {
     "data": {
      "text/plain": [
       "['RepEscobar']"
      ]
     },
     "execution_count": 96,
     "metadata": {},
     "output_type": "execute_result"
    }
   ],
   "source": [
    "mentions_re = r'\\@(\\w+)'\n",
    "\n",
    "re.findall(mentions_re, tweets[\"AOC\"].iloc[0][\"full_text\"])"
   ]
  },
  {
   "cell_type": "code",
   "execution_count": 97,
   "metadata": {
    "deletable": false,
    "editable": false
   },
   "outputs": [
    {
     "data": {
      "text/html": [
       "<p><strong><pre style='display: inline;'>q4cii</pre></strong> passed! 🎉</p>"
      ],
      "text/plain": [
       "q4cii results: All test cases passed!"
      ]
     },
     "execution_count": 97,
     "metadata": {},
     "output_type": "execute_result"
    }
   ],
   "source": [
    "grader.check(\"q4cii\")"
   ]
  },
  {
   "cell_type": "markdown",
   "metadata": {},
   "source": [
    "<br/>\n",
    "\n",
    "### Tweet Sentiments and User Mentions\n",
    "\n",
    "As you have seen in the previous part of this question, there are actually a lot of interesting components that we can extract out of a tweet for further analysis! For the rest of this question though, we will focus on one particular case: the sentiment of each tweet in relation to the users mentioned within it. \n",
    "\n",
    "To calculate the sentiments for a sentence, we will follow this procedure:\n",
    "\n",
    "1. Remove the punctuation from each tweet so we can analyze the words.\n",
    "2. For each tweet, find the sentiment of each word.\n",
    "3. Calculate the sentiment of each tweet by taking the sum of the sentiments of its words."
   ]
  },
  {
   "cell_type": "markdown",
   "metadata": {
    "deletable": false,
    "editable": false
   },
   "source": [
    "---\n",
    "### Question 4d\n",
    "\n",
    "Let's use our `punct_re` regular expression from the previous part to clean up the text a bit more! The goal here is to remove all of the punctuations to ensure words can be properly matched with those from VADER to actually calculate the full sentiment score.\n",
    "\n",
    "Complete the following function `sanitize_texts` that takes in a table `df` and adds a new column `clean_text` by converting all characters in its original `full_text` column to lower case and replace all instances of punctuations with a space character.\n",
    "\n",
    "<!--\n",
    "BEGIN QUESTION\n",
    "name: q4d\n",
    "points: 1\n",
    "-->"
   ]
  },
  {
   "cell_type": "code",
   "execution_count": 118,
   "metadata": {},
   "outputs": [
    {
     "data": {
      "text/plain": [
       "id\n",
       "1358149122264563712                                                                                       rt  repescobar  our country has the moral obligation and responsibility to reunite every single family separated at the southern border \\n\\nt \n",
       "1358147616400408576                                                                                      rt  rokhanna  what happens when we guarantee  15 hour \\n\\n  31  of black workers and 26  of latinx workers get raises \\n  a majority of essent \n",
       "1358145332316667909                                                                                                                                                                                                     source  https   t co 3o5jer6zpd \n",
       "1358145218407759875                                                 joe cunningham pledged to never take corporate pac money  and he never did  mace said she ll cash every check she gets  yet another way this is a downgrade  https   t co dytsqxkxgu\n",
       "1358144207333036040    what s even more gross is that mace takes corporate pac money \\n\\nshe s already funded by corporations  now she s choosing to swindle working people on top of it \\n\\npeak scam artistry  caps for cash   https   t co ccvxgdf6id\n",
       "Name: clean_text, dtype: object"
      ]
     },
     "execution_count": 118,
     "metadata": {},
     "output_type": "execute_result"
    }
   ],
   "source": [
    "def sanitize_texts(df):\n",
    "    df[\"clean_text\"] = (df[\"full_text\"]\n",
    "                            .str.lower()\n",
    "                            .str.replace(punct_re, \" \", regex=True))\n",
    "    return df\n",
    "\n",
    "tweets = {handle: sanitize_texts(df) for handle, df in tweets.items()}\n",
    "tweets[\"AOC\"][\"clean_text\"].head()"
   ]
  },
  {
   "cell_type": "code",
   "execution_count": 120,
   "metadata": {
    "deletable": false,
    "editable": false
   },
   "outputs": [
    {
     "data": {
      "text/html": [
       "<p><strong><pre style='display: inline;'>q4d</pre></strong> passed! 🙌</p>"
      ],
      "text/plain": [
       "q4d results: All test cases passed!"
      ]
     },
     "execution_count": 120,
     "metadata": {},
     "output_type": "execute_result"
    }
   ],
   "source": [
    "grader.check(\"q4d\")"
   ]
  },
  {
   "cell_type": "markdown",
   "metadata": {
    "deletable": false,
    "editable": false
   },
   "source": [
    "---\n",
    "### Question 4e\n",
    "With the texts sanitized, we can now extract all the user mentions from tweets. \n",
    "\n",
    "Complete the following function `extract_mentions` that takes in the **`full_text`** (not `clean_text`!) column from a tweets dataframe  and uses `mentions_re` to extract all the mentions in a dataframe. The returned dataframe is:\n",
    "* single-indexed by the IDs of the tweets\n",
    "* has one row for each mention\n",
    "* has one column named `mentions`, which contains each mention in all lower-cased characters\n",
    "\n",
    "\n",
    "**Hint**: There are several ways to approach this problem. Here is documentation for potentially useful functions: `str.extractall` ([link](https://pandas.pydata.org/pandas-docs/stable/reference/api/pandas.Series.str.extractall.html?highlight=extractall)) and `str.findall` ([link](https://pandas.pydata.org/pandas-docs/stable/reference/api/pandas.Series.str.findall.html)), `dropna` ([link](https://pandas.pydata.org/pandas-docs/stable/reference/api/pandas.Series.dropna.html?highlight=dropna#pandas.Series.dropna)), and `explode` ([link](https://pandas.pydata.org/pandas-docs/stable/reference/api/pandas.Series.explode.html?highlight=series%20explode)).\n",
    "\n",
    "<!--\n",
    "BEGIN QUESTION\n",
    "name: q4e\n",
    "points: 2\n",
    "-->"
   ]
  },
  {
   "cell_type": "code",
   "execution_count": 123,
   "metadata": {},
   "outputs": [
    {
     "data": {
      "text/html": [
       "<div>\n",
       "<style scoped>\n",
       "    .dataframe tbody tr th:only-of-type {\n",
       "        vertical-align: middle;\n",
       "    }\n",
       "\n",
       "    .dataframe tbody tr th {\n",
       "        vertical-align: top;\n",
       "    }\n",
       "\n",
       "    .dataframe thead tr th {\n",
       "        text-align: left;\n",
       "    }\n",
       "</style>\n",
       "<table border=\"1\" class=\"dataframe\">\n",
       "  <thead>\n",
       "    <tr>\n",
       "      <th></th>\n",
       "      <th>AOC</th>\n",
       "      <th>Cristiano</th>\n",
       "      <th>elonmusk</th>\n",
       "    </tr>\n",
       "    <tr>\n",
       "      <th></th>\n",
       "      <th>mentions</th>\n",
       "      <th>mentions</th>\n",
       "      <th>mentions</th>\n",
       "    </tr>\n",
       "  </thead>\n",
       "  <tbody>\n",
       "    <tr>\n",
       "      <th>0</th>\n",
       "      <td>repescobar</td>\n",
       "      <td>sixpadhomegym</td>\n",
       "      <td>dumdin7</td>\n",
       "    </tr>\n",
       "    <tr>\n",
       "      <th>1</th>\n",
       "      <td>rokhanna</td>\n",
       "      <td>globe_soccer</td>\n",
       "      <td>grimezsz</td>\n",
       "    </tr>\n",
       "    <tr>\n",
       "      <th>2</th>\n",
       "      <td>jaketapper</td>\n",
       "      <td>pestanacr7</td>\n",
       "      <td>kristennetten</td>\n",
       "    </tr>\n",
       "    <tr>\n",
       "      <th>3</th>\n",
       "      <td>repmcgovern</td>\n",
       "      <td>goldenfootofficial</td>\n",
       "      <td>kristennetten</td>\n",
       "    </tr>\n",
       "    <tr>\n",
       "      <th>4</th>\n",
       "      <td>joeneguse</td>\n",
       "      <td>herbalife</td>\n",
       "      <td>owensparks_</td>\n",
       "    </tr>\n",
       "  </tbody>\n",
       "</table>\n",
       "</div>"
      ],
      "text/plain": [
       "           AOC           Cristiano       elonmusk\n",
       "      mentions            mentions       mentions\n",
       "0   repescobar       sixpadhomegym        dumdin7\n",
       "1     rokhanna        globe_soccer       grimezsz\n",
       "2   jaketapper          pestanacr7  kristennetten\n",
       "3  repmcgovern  goldenfootofficial  kristennetten\n",
       "4    joeneguse           herbalife    owensparks_"
      ]
     },
     "execution_count": 123,
     "metadata": {},
     "output_type": "execute_result"
    }
   ],
   "source": [
    "def extract_mentions(full_texts):\n",
    "    mentions_re = r'\\@(\\w+)'\n",
    "    mentions = full_texts.str.extract(mentions_re).rename(columns={0: 'mentions'})\n",
    "    mentions['mentions'] = mentions['mentions'].str.lower()\n",
    "    return mentions[[\"mentions\"]].dropna()\n",
    "\n",
    "# uncomment this line to help you debug\n",
    "# display(extract_mentions(tweets[\"AOC\"][\"full_text\"]).head())\n",
    "\n",
    "# do not modify the below code\n",
    "mentions = {handle: extract_mentions(df[\"full_text\"]) for handle, df in tweets.items()}\n",
    "horiz_concat_df(mentions).head()"
   ]
  },
  {
   "cell_type": "code",
   "execution_count": 124,
   "metadata": {
    "deletable": false,
    "editable": false
   },
   "outputs": [
    {
     "data": {
      "text/html": [
       "<p><strong><pre style='display: inline;'>q4e</pre></strong> passed! 🌟</p>"
      ],
      "text/plain": [
       "q4e results: All test cases passed!"
      ]
     },
     "execution_count": 124,
     "metadata": {},
     "output_type": "execute_result"
    }
   ],
   "source": [
    "grader.check(\"q4e\")"
   ]
  },
  {
   "cell_type": "markdown",
   "metadata": {
    "nbgrader": {
     "grade": false,
     "grade_id": "q6d-header",
     "locked": true,
     "schema_version": 2,
     "solution": false
    }
   },
   "source": [
    "<br/>\n",
    "\n",
    "### Tidying Up the Data\n",
    "\n",
    "Now, let's convert the tweets into what's called a [*tidy format*](https://cran.r-project.org/web/packages/tidyr/vignettes/tidy-data.html) to make the sentiments easier to calculate. The `to_tidy_format` function implemented for you uses the `clean_text` column of each tweets dataframe to create a tidy table, which is:\n",
    "\n",
    "* single-indexed by the IDs of the tweets, for every word in the tweet.\n",
    "* has one column named `word`, which contains the individual words of each tweet.\n",
    "\n",
    "Run the following cell to convert the table into the tidy format. Take a look at the first 5 rows from the \"tidied\" tweets dataframe for AOC and see if you can find out how the structure has changed.\n",
    "\n",
    "**Note**: Although there is no work needed on your part, we have referenced a few more advanced pandas methods you might have not seen before -- you should definitely look them up in the documentation when you have a chance, as they are quite powerful in restructuring a dataframe into a useful intermediate state!"
   ]
  },
  {
   "cell_type": "code",
   "execution_count": 125,
   "metadata": {
    "nbgrader": {
     "grade": false,
     "grade_id": "q6d-answer",
     "locked": false,
     "schema_version": 2,
     "solution": true
    },
    "tags": [
     "student"
    ]
   },
   "outputs": [
    {
     "data": {
      "text/html": [
       "<div>\n",
       "<style scoped>\n",
       "    .dataframe tbody tr th:only-of-type {\n",
       "        vertical-align: middle;\n",
       "    }\n",
       "\n",
       "    .dataframe tbody tr th {\n",
       "        vertical-align: top;\n",
       "    }\n",
       "\n",
       "    .dataframe thead th {\n",
       "        text-align: right;\n",
       "    }\n",
       "</style>\n",
       "<table border=\"1\" class=\"dataframe\">\n",
       "  <thead>\n",
       "    <tr style=\"text-align: right;\">\n",
       "      <th></th>\n",
       "      <th>word</th>\n",
       "    </tr>\n",
       "    <tr>\n",
       "      <th>id</th>\n",
       "      <th></th>\n",
       "    </tr>\n",
       "  </thead>\n",
       "  <tbody>\n",
       "    <tr>\n",
       "      <th>1358149122264563712</th>\n",
       "      <td>rt</td>\n",
       "    </tr>\n",
       "    <tr>\n",
       "      <th>1358149122264563712</th>\n",
       "      <td>repescobar</td>\n",
       "    </tr>\n",
       "    <tr>\n",
       "      <th>1358149122264563712</th>\n",
       "      <td>our</td>\n",
       "    </tr>\n",
       "    <tr>\n",
       "      <th>1358149122264563712</th>\n",
       "      <td>country</td>\n",
       "    </tr>\n",
       "    <tr>\n",
       "      <th>1358149122264563712</th>\n",
       "      <td>has</td>\n",
       "    </tr>\n",
       "  </tbody>\n",
       "</table>\n",
       "</div>"
      ],
      "text/plain": [
       "                           word\n",
       "id                             \n",
       "1358149122264563712          rt\n",
       "1358149122264563712  repescobar\n",
       "1358149122264563712         our\n",
       "1358149122264563712     country\n",
       "1358149122264563712         has"
      ]
     },
     "execution_count": 125,
     "metadata": {},
     "output_type": "execute_result"
    }
   ],
   "source": [
    "# just run this cell\n",
    "def to_tidy_format(df):\n",
    "    tidy = (\n",
    "        df[\"clean_text\"]\n",
    "        .str.split()\n",
    "        .explode()\n",
    "        .to_frame()\n",
    "        .rename(columns={\"clean_text\": \"word\"})\n",
    "    )\n",
    "    return tidy\n",
    "\n",
    "tidy_tweets = {handle: to_tidy_format(df) for handle, df in tweets.items()}\n",
    "tidy_tweets[\"AOC\"].head()"
   ]
  },
  {
   "cell_type": "markdown",
   "metadata": {
    "nbgrader": {
     "grade": false,
     "grade_id": "q6e-header",
     "locked": true,
     "schema_version": 2,
     "solution": false
    }
   },
   "source": [
    "### Adding in the Polarity Score\n",
    "\n",
    "Now that we have this table in the tidy format, it becomes much easier to find the sentiment of each tweet: we can join the table with the lexicon table. \n",
    "\n",
    "The following `add_polarity` function adds a new `polarity` column to the `df` table. The `polarity` column contains the sum of the sentiment polarity of each word in the text of the tweet.\n",
    "\n",
    "**Note**: Again, though there is no work needed on your part, it is important for you to go through how we set up this method and actually understand what each method is doing. In particular, see how we deal with missing data."
   ]
  },
  {
   "cell_type": "code",
   "execution_count": 126,
   "metadata": {
    "nbgrader": {
     "grade": false,
     "grade_id": "q6e",
     "locked": false,
     "schema_version": 2,
     "solution": true
    },
    "tags": [
     "student"
    ]
   },
   "outputs": [
    {
     "data": {
      "text/html": [
       "<div>\n",
       "<style scoped>\n",
       "    .dataframe tbody tr th:only-of-type {\n",
       "        vertical-align: middle;\n",
       "    }\n",
       "\n",
       "    .dataframe tbody tr th {\n",
       "        vertical-align: top;\n",
       "    }\n",
       "\n",
       "    .dataframe thead th {\n",
       "        text-align: right;\n",
       "    }\n",
       "</style>\n",
       "<table border=\"1\" class=\"dataframe\">\n",
       "  <thead>\n",
       "    <tr style=\"text-align: right;\">\n",
       "      <th></th>\n",
       "      <th>clean_text</th>\n",
       "      <th>polarity</th>\n",
       "    </tr>\n",
       "    <tr>\n",
       "      <th>id</th>\n",
       "      <th></th>\n",
       "      <th></th>\n",
       "    </tr>\n",
       "  </thead>\n",
       "  <tbody>\n",
       "    <tr>\n",
       "      <th>1358149122264563712</th>\n",
       "      <td>rt  repescobar  our country has the moral obligation and responsibility to reunite every single family separated at the southern border \\n\\nt</td>\n",
       "      <td>0.0</td>\n",
       "    </tr>\n",
       "    <tr>\n",
       "      <th>1358147616400408576</th>\n",
       "      <td>rt  rokhanna  what happens when we guarantee  15 hour \\n\\n  31  of black workers and 26  of latinx workers get raises \\n  a majority of essent</td>\n",
       "      <td>1.0</td>\n",
       "    </tr>\n",
       "    <tr>\n",
       "      <th>1358145332316667909</th>\n",
       "      <td>source  https   t co 3o5jer6zpd</td>\n",
       "      <td>0.0</td>\n",
       "    </tr>\n",
       "    <tr>\n",
       "      <th>1358145218407759875</th>\n",
       "      <td>joe cunningham pledged to never take corporate pac money  and he never did  mace said she ll cash every check she gets  yet another way this is a downgrade  https   t co dytsqxkxgu</td>\n",
       "      <td>0.0</td>\n",
       "    </tr>\n",
       "    <tr>\n",
       "      <th>1358144207333036040</th>\n",
       "      <td>what s even more gross is that mace takes corporate pac money \\n\\nshe s already funded by corporations  now she s choosing to swindle working people on top of it \\n\\npeak scam artistry  caps for cash   https   t co ccvxgdf6id</td>\n",
       "      <td>-6.4</td>\n",
       "    </tr>\n",
       "  </tbody>\n",
       "</table>\n",
       "</div>"
      ],
      "text/plain": [
       "                                                                                                                                                                                                                                            clean_text  \\\n",
       "id                                                                                                                                                                                                                                                       \n",
       "1358149122264563712                                                                                     rt  repescobar  our country has the moral obligation and responsibility to reunite every single family separated at the southern border \\n\\nt    \n",
       "1358147616400408576                                                                                    rt  rokhanna  what happens when we guarantee  15 hour \\n\\n  31  of black workers and 26  of latinx workers get raises \\n  a majority of essent    \n",
       "1358145332316667909                                                                                                                                                                                                   source  https   t co 3o5jer6zpd    \n",
       "1358145218407759875                                               joe cunningham pledged to never take corporate pac money  and he never did  mace said she ll cash every check she gets  yet another way this is a downgrade  https   t co dytsqxkxgu   \n",
       "1358144207333036040  what s even more gross is that mace takes corporate pac money \\n\\nshe s already funded by corporations  now she s choosing to swindle working people on top of it \\n\\npeak scam artistry  caps for cash   https   t co ccvxgdf6id   \n",
       "\n",
       "                     polarity  \n",
       "id                             \n",
       "1358149122264563712       0.0  \n",
       "1358147616400408576       1.0  \n",
       "1358145332316667909       0.0  \n",
       "1358145218407759875       0.0  \n",
       "1358144207333036040      -6.4  "
      ]
     },
     "execution_count": 126,
     "metadata": {},
     "output_type": "execute_result"
    }
   ],
   "source": [
    "# just run this cell\n",
    "def add_polarity(df, tidy_df):\n",
    "    df[\"polarity\"] = (\n",
    "        tidy_df\n",
    "        .merge(sent, how='left', left_on='word', right_index=True)\n",
    "        .reset_index()\n",
    "        .loc[:, ['id', 'polarity']]\n",
    "        .fillna(0)\n",
    "        .groupby('id')\n",
    "        .sum()\n",
    "    )\n",
    "    return df\n",
    "\n",
    "tweets = {handle: add_polarity(df, tidy_df) for (handle, df), tidy_df in \\\n",
    "          zip(tweets.items(), tidy_tweets.values())}\n",
    "tweets[\"AOC\"][[\"clean_text\", \"polarity\"]].head()"
   ]
  },
  {
   "cell_type": "markdown",
   "metadata": {
    "deletable": false,
    "editable": false
   },
   "source": [
    "---\n",
    "### Question 4f\n",
    "Finally, with our polarity column in place, we can finally explore how the sentiment of each tweet relates to the user(s) mentioned in it. \n",
    "\n",
    "Complete the following function `mention_polarity` that takes in a mentions dataframe `mentions` and the original tweets dataframe `df` and returns a series where the mentioned users are the index and the corresponding mean sentiment scores of the tweets mentioning them are the values.\n",
    "\n",
    "**Hint**: You should consider joining tables together in this question.\n",
    "\n",
    "<!--\n",
    "BEGIN QUESTION\n",
    "name: q4f\n",
    "points: 2\n",
    "-->"
   ]
  },
  {
   "cell_type": "code",
   "execution_count": 127,
   "metadata": {},
   "outputs": [
    {
     "data": {
      "text/plain": [
       "mentions\n",
       "booker4ky          15.4\n",
       "davidscottjaffe    12.6\n",
       "johnkerry          11.4\n",
       "mjacobs324         11.3\n",
       "penasays           10.8\n",
       "                   ... \n",
       "paolamendoza       -7.6\n",
       "meggiebaer         -8.6\n",
       "hawleymo           -8.9\n",
       "scotthech         -10.8\n",
       "repmarktakano     -10.8\n",
       "Name: polarity, Length: 988, dtype: float64"
      ]
     },
     "execution_count": 127,
     "metadata": {},
     "output_type": "execute_result"
    }
   ],
   "source": [
    "def mention_polarity(df, mention_df):\n",
    "    return mention_df.merge(df, how=\"left\", left_on=\"id\", right_on=\"id\").groupby(\"mentions\")[\"polarity\"].agg(np.mean)\n",
    "\n",
    "aoc_mention_polarity = mention_polarity(tweets[\"AOC\"],mentions[\"AOC\"]).sort_values(ascending=False)\n",
    "aoc_mention_polarity"
   ]
  },
  {
   "cell_type": "code",
   "execution_count": 128,
   "metadata": {
    "deletable": false,
    "editable": false
   },
   "outputs": [
    {
     "data": {
      "text/html": [
       "<p><strong><pre style='display: inline;'>q4f</pre></strong> passed! 🌈</p>"
      ],
      "text/plain": [
       "q4f results: All test cases passed!"
      ]
     },
     "execution_count": 128,
     "metadata": {},
     "output_type": "execute_result"
    }
   ],
   "source": [
    "grader.check(\"q4f\")"
   ]
  },
  {
   "cell_type": "markdown",
   "metadata": {
    "deletable": false,
    "editable": false
   },
   "source": [
    "<!-- BEGIN QUESTION -->\n",
    "\n",
    "---\n",
    "### Question 4g\n",
    "\n",
    "When grouping by mentions and aggregating the polarity of the tweets, what aggregation function should we use? What might be one drawback of using the mean?\n",
    "\n",
    "<!--\n",
    "BEGIN QUESTION\n",
    "name: q4g\n",
    "points: 2\n",
    "manual: true\n",
    "-->"
   ]
  },
  {
   "attachments": {},
   "cell_type": "markdown",
   "metadata": {},
   "source": [
    "均值。对异常值比较敏感"
   ]
  },
  {
   "cell_type": "markdown",
   "metadata": {
    "nbgrader": {
     "grade": false,
     "grade_id": "q4a",
     "locked": true,
     "schema_version": 2,
     "solution": false
    }
   },
   "source": [
    "<!-- END QUESTION -->\n",
    "\n",
    "\n",
    "\n",
    "<br/><br/><br/>\n",
    "<br/><br/><br/>\n",
    "<hr style=\"border: 5px solid #003262;\" />\n",
    "<hr style=\"border: 1px solid #fdb515;\" />\n",
    "\n",
    "\n",
    "## Question 5: You Do EDA!\n",
    "\n",
    "Congratulations! You have finished all of the preliminary analysis on AOC, Cristiano, and Elon Musk's recent tweets. \n",
    "\n",
    "As you might have recognized, there is still far more to explore within the data and build upon what we have uncovered so far. In this open-ended question, we want you to come up with a new perspective that can expand upon our analysis of the sentiment of each tweet. \n",
    "\n",
    "For this question, you will perform some text analysis on our `tweets` dataset. Your analysis should have two parts:\n",
    "\n",
    "1. a piece of code that manipulates `tweets` in some way and produces informative output (e.g. a dataframe, series, or plot)\n",
    "2. a short (4-5 sentence) description of the findings of your analysis: what were you looking for? What did you find? How did you go about answering your question?\n",
    "\n",
    "Your work should involve text analysis in some way, whether that's using regular expressions or some other form.\n",
    "\n",
    "To aid you in creating plots, we provide the plotting helper functions in the table below. These are same helpers we have used throughout this notebook, and all accept dictionaries with a similar structure to `tweets`. That being said, if you know how to make plots, please do so! Very soon in this class, you'll learn how to use the matplotlib and seaborn libraries that we use to write these the helpers.\n",
    "\n",
    "| Helper | Description |\n",
    "|--------|-------------|\n",
    "| `make_bar_plot` | Plot side-by-side bar plots of data like [`plt.bar`](https://matplotlib.org/3.1.1/api/_as_gen/matplotlib.pyplot.bar.html) |\n",
    "| `make_histogram` | Plot overlaid histograms of data like [`plt.hist`](https://matplotlib.org/api/_as_gen/matplotlib.pyplot.hist.html) |\n",
    "| `make_line_plot` | Plot overlaid line plots of data like [`plt.plot`](https://matplotlib.org/3.3.3/api/_as_gen/matplotlib.pyplot.plot.html) |\n",
    "| `make_scatter_plot` | Plot overlaid scatter plots of data like [`plt.scatter`](https://matplotlib.org/3.3.3/api/_as_gen/matplotlib.pyplot.scatter.html) |\n",
    "\n",
    "Each of the provided helpers is in `ds100_utils.py` and has a comprehensive docstring. You can read the docstring by calling `help` on the plotting function:"
   ]
  },
  {
   "cell_type": "code",
   "execution_count": 101,
   "metadata": {},
   "outputs": [],
   "source": [
    "help(make_line_plot)"
   ]
  },
  {
   "cell_type": "markdown",
   "metadata": {},
   "source": [
    "To assist you in getting started, here are a few ideas for this you can analyze for this question:\n",
    "\n",
    "- dig deeper into when devices were used\n",
    "- how sentiment varies with time of tweet\n",
    "- expand on regexes from 4b to perform additional analysis (e.g. hashtags)\n",
    "- examine sentiment of tweets over time\n",
    "\n",
    "In general, try to combine the analyses from earlier questions or create new analysis based on the scaffolding we have provided.\n",
    "\n",
    "This question is worth 4 points and will be graded based on this rubric:\n",
    "\n",
    "| | 2 points | 1 point | 0 points |\n",
    "|-----|-----|-----|-----|\n",
    "| **Code** | Produces a mostly informative plot or pandas output that addresses the question posed in the student's description and uses at least one of the following pandas DataFrame/Series methods: `groupby`, `agg`, `merge`, `pivot_table`, `str`, `apply` | Attempts to produce a plot or manipulate data but the output is unrelated to the proposed question, or doesn't utilize at least one of the listed methods | No attempt at writing code |\n",
    "| **Description** | Describes the analysis question and procedure comprehensively and summarizes results correctly | Attempts to describe analysis and results but description of results is incorrect or analysis of results is disconnected from the student’s original question | No attempt at writing a description |"
   ]
  },
  {
   "cell_type": "markdown",
   "metadata": {
    "deletable": false,
    "editable": false
   },
   "source": [
    "<!-- BEGIN QUESTION -->\n",
    "\n",
    "---\n",
    "### Question 5a\n",
    "\n",
    "Use this space to put your EDA code.\n",
    "\n",
    "<!--\n",
    "BEGIN QUESTION\n",
    "name: q5a\n",
    "manual: true\n",
    "points: 2\n",
    "-->"
   ]
  },
  {
   "cell_type": "code",
   "execution_count": 102,
   "metadata": {},
   "outputs": [],
   "source": [
    "# perform your text analysis here"
   ]
  },
  {
   "cell_type": "code",
   "execution_count": 135,
   "metadata": {},
   "outputs": [],
   "source": [
    "# 标签分析\n",
    "def extract_hashtags(full_texts):\n",
    "    hashtag_re = r'\\#(\\w+)'\n",
    "    hashtags = full_texts.str.extract(hashtag_re).rename(columns={0: 'hashtags'})\n",
    "    hashtags['hashtags'] = hashtags['hashtags'].str.lower()\n",
    "    return hashtags[[\"hashtags\"]].dropna()\n",
    "\n",
    "# 马斯克的推文标签\n",
    "elon_musk_hashtags = extract_hashtags(tweets[\"elonmusk\"][\"full_text\"])"
   ]
  },
  {
   "cell_type": "code",
   "execution_count": 137,
   "metadata": {},
   "outputs": [
    {
     "data": {
      "text/plain": [
       "hashtags\n",
       "starship                 2.900\n",
       "powerwall                2.000\n",
       "launchamerica            1.875\n",
       "veteransday              1.500\n",
       "mdtismobilizing          1.200\n",
       "spacex                   0.750\n",
       "crewdragon               0.100\n",
       "cancelnewsnetwork        0.000\n",
       "dragon                   0.000\n",
       "maythefourthbewithyou    0.000\n",
       "tesla                    0.000\n",
       "justiceforgeorge        -1.200\n",
       "Name: polarity, dtype: float64"
      ]
     },
     "execution_count": 137,
     "metadata": {},
     "output_type": "execute_result"
    }
   ],
   "source": [
    "hashtags = {handle: extract_hashtags(df[\"full_text\"]) for handle, df in tweets.items()}\n",
    "\n",
    "# 计算标签 对应推文的 情绪值\n",
    "def hashtag_polarity(df, hashtag_df):\n",
    "    return hashtag_df.merge(df, how=\"left\", left_on=\"id\", right_on=\"id\").groupby(\"hashtags\")[\"polarity\"].agg(np.mean)\n",
    "\n",
    "\n",
    "elonmusk_hashtag_polarity = hashtag_polarity(tweets[\"elonmusk\"],hashtags[\"elonmusk\"]).sort_values(ascending=False)\n",
    "elonmusk_hashtag_polarity"
   ]
  },
  {
   "cell_type": "code",
   "execution_count": 131,
   "metadata": {},
   "outputs": [
    {
     "data": {
      "image/png": "[encoded data removed]",
      "text/plain": [
       "<Figure size 1500x500 with 1 Axes>"
      ]
     },
     "metadata": {},
     "output_type": "display_data"
    }
   ],
   "source": [
    "make_bar_plot(elonmusk_hashtag_polarity,xlabel = \"Hashtag Category\", ylabel = \"Polarity\", title = \"Polarity of Hashtag Category\")"
   ]
  },
  {
   "cell_type": "markdown",
   "metadata": {
    "deletable": false,
    "editable": false
   },
   "source": [
    "<!-- END QUESTION -->\n",
    "\n",
    "<!-- BEGIN QUESTION -->\n",
    "\n",
    "---\n",
    "### Question 5b\n",
    "\n",
    "Use this space to put your EDA description.\n",
    "\n",
    "<!--\n",
    "BEGIN QUESTION\n",
    "name: q5b\n",
    "manual: true\n",
    "points: 2\n",
    "-->"
   ]
  },
  {
   "attachments": {},
   "cell_type": "markdown",
   "metadata": {},
   "source": [
    "我的分析集中在从Elon Musk的推文中提取 标签的 情绪倾向。程序包括从完整文本中提取标签，然后将 标签 与带有情绪倾向的整个数据合并，按 标签分组 分组，并计算每个标签分组的均值。上述“Hashtag类别的极性”条形图显示，大多数Elon Musk的极性是积极的。平均极性最高的标签（2.9）是“starship”。“justiceforgeorge”标签的平均极性最低，为-1.2。"
   ]
  },
  {
   "cell_type": "markdown",
   "metadata": {},
   "source": [
    "<!-- END QUESTION -->\n",
    "\n",
    "\n",
    "\n",
    "## Congratulations! You have finished Homework 3!"
   ]
  },
  {
   "cell_type": "markdown",
   "metadata": {
    "deletable": false,
    "editable": false
   },
   "source": [
    "---\n",
    "\n",
    "To double-check your work, the cell below will rerun all of the autograder tests."
   ]
  },
  {
   "cell_type": "code",
   "execution_count": 132,
   "metadata": {
    "deletable": false,
    "editable": false
   },
   "outputs": [
    {
     "data": {
      "text/plain": [
       "q1a results: All test cases passed!\n",
       "\n",
       "q1b results: All test cases passed!\n",
       "\n",
       "q1c results: All test cases passed!\n",
       "\n",
       "q2a results: All test cases passed!\n",
       "\n",
       "q2b results: All test cases passed!\n",
       "\n",
       "q2c results: All test cases passed!\n",
       "\n",
       "q2d results: All test cases passed!\n",
       "\n",
       "q3a results: All test cases passed!\n",
       "\n",
       "q3c results: All test cases passed!\n",
       "\n",
       "q4b results: All test cases passed!\n",
       "\n",
       "q4ci results: All test cases passed!\n",
       "\n",
       "q4cii results: All test cases passed!\n",
       "\n",
       "q4d results: All test cases passed!\n",
       "\n",
       "q4e results: All test cases passed!\n",
       "\n",
       "q4f results: All test cases passed!"
      ]
     },
     "execution_count": 132,
     "metadata": {},
     "output_type": "execute_result"
    }
   ],
   "source": [
    "grader.check_all()"
   ]
  },
  {
   "cell_type": "markdown",
   "metadata": {
    "deletable": false,
    "editable": false
   },
   "source": [
    "## Submission\n",
    "\n",
    "Make sure you have run all cells in your notebook in order before running the cell below, so that all images/graphs appear in the output. The cell below will generate a zip file for you to submit. **Please save before exporting!**"
   ]
  },
  {
   "cell_type": "code",
   "execution_count": 133,
   "metadata": {
    "deletable": false,
    "editable": false
   },
   "outputs": [
    {
     "data": {
      "text/html": [
       "\n",
       "            <p>Your submission has been exported. Click <a href=\"hw03_2023_04_02T21_06_56_781031.zip\" download=\"hw03_2023_04_02T21_06_56_781031.zip\" target=\"_blank\">here</a>\n",
       "            to download the zip file.</p>\n",
       "            "
      ],
      "text/plain": [
       "<IPython.core.display.HTML object>"
      ]
     },
     "metadata": {},
     "output_type": "display_data"
    }
   ],
   "source": [
    "# Save your notebook first, then run this cell to export your submission.\n",
    "grader.export(pdf=False)"
   ]
  }
 ],
 "metadata": {
  "kernelspec": {
   "display_name": "Python 3 (ipykernel)",
   "language": "python",
   "name": "python3"
  },
  "language_info": {
   "codemirror_mode": {
    "name": "ipython",
    "version": 3
   },
   "file_extension": ".py",
   "mimetype": "text/x-python",
   "name": "python",
   "nbconvert_exporter": "python",
   "pygments_lexer": "ipython3",
   "version": "3.8.16"
  }
 },
 "nbformat": 4,
 "nbformat_minor": 4
}
